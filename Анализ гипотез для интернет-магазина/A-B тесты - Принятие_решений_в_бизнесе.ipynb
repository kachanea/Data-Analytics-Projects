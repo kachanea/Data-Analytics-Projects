{
 "cells": [
  {
   "cell_type": "markdown",
   "metadata": {},
   "source": [
    "# <a id='toc1_'></a>[Проект: Принятие решений в бизнесе](#toc0_)"
   ]
  },
  {
   "cell_type": "markdown",
   "metadata": {},
   "source": [
    "**Table of contents**<a id='toc0_'></a>    \n",
    "- [Проект: Принятие решений в бизнесе](#toc1_)    \n",
    "  - [Описание проекта](#toc1_1_)    \n",
    "    - [План действий](#toc1_1_1_)    \n",
    "  - [Часть 1. Приоритизация гипотез.](#toc1_2_)    \n",
    "      - [Задачи](#toc1_2_1_1_)    \n",
    "    - [Описание данных](#toc1_2_2_)    \n",
    "    - [Фреймворк ICE](#toc1_2_3_)    \n",
    "    - [Фреймворк RICE](#toc1_2_4_)    \n",
    "    - [Выводы](#toc1_2_5_)    \n",
    "  - [Часть 2. Анализ A/B-теста](#toc1_3_)    \n",
    "      - [Задачи](#toc1_3_1_1_)    \n",
    "    - [Загрузка и описание данных](#toc1_3_2_)    \n",
    "      - [Описание данных](#toc1_3_2_1_)    \n",
    "      - [Загрузка и анализ данных](#toc1_3_2_2_)    \n",
    "    - [Анализ A/B-теста](#toc1_3_3_)    \n",
    "      - [График кумулятивной выручки по группам](#toc1_3_3_1_)    \n",
    "      - [График кумулятивного среднего чека по группам](#toc1_3_3_2_)    \n",
    "      - [График относительного изменения кумулятивного среднего чека группы B к группе A](#toc1_3_3_3_)    \n",
    "      - [График кумулятивного среднего количества заказов на посетителя по группам](#toc1_3_3_4_)    \n",
    "      - [График относительного изменения кумулятивного среднего количества заказов на посетителя группы B к группе A](#toc1_3_3_5_)    \n",
    "      - [Гочечный график количества заказов по пользователям](#toc1_3_3_6_)    \n",
    "      - [95-й и 99-й перцентили количества заказов на пользователя](#toc1_3_3_7_)    \n",
    "      - [Точечный график стоимостей заказов](#toc1_3_3_8_)    \n",
    "      - [95-й и 99-й перцентили стоимости заказов](#toc1_3_3_9_)    \n",
    "      - [Расчет статистической значимости различий в среднем количестве заказов на посетителя между группами по «сырым» данным](#toc1_3_3_10_)    \n",
    "      - [Расчет статистической значимости различий в среднем чеке заказа между группами по «сырым» данным](#toc1_3_3_11_)    \n",
    "      - [Расчет статистической значимости различий в среднем количестве заказов на посетителя между группами по «очищенным» данным](#toc1_3_3_12_)    \n",
    "      - [Расчет статистической значимости различий в среднем чеке заказа между группами по «очищенным» данным](#toc1_3_3_13_)    \n",
    "      - [Решение по результатам теста](#toc1_3_3_14_)    \n",
    "    - [Вывод](#toc1_3_4_)    \n",
    "\n",
    "<!-- vscode-jupyter-toc-config\n",
    "\tnumbering=false\n",
    "\tanchor=true\n",
    "\tflat=false\n",
    "\tminLevel=1\n",
    "\tmaxLevel=6\n",
    "\t/vscode-jupyter-toc-config -->\n",
    "<!-- THIS CELL WILL BE REPLACED ON TOC UPDATE. DO NOT WRITE YOUR TEXT IN THIS CELL -->"
   ]
  },
  {
   "cell_type": "markdown",
   "metadata": {},
   "source": [
    "## <a id='toc1_1_'></a>[Описание проекта](#toc0_)\n",
    "Для крупного интернет-магазина вместе с отделом маркетинга был подготовлен список гипотез для увеличения выручки.  \n",
    "\n",
    "Необходимо приоритизировать гипотезы, запустить A/B-тест и проанализировать  результаты."
   ]
  },
  {
   "cell_type": "markdown",
   "metadata": {},
   "source": [
    "### <a id='toc1_1_1_'></a>[План действий](#toc0_)\n",
    "\n",
    "* В первой части проекта проведем приоритизацию гипотез с помощью фреймворков ICE и RICE.\n",
    "\n",
    "* Во второй части проекта проведем A/B тест и оценим результаты. Построим графики, проверим выборки на аномалии. Посчитаем статистическую значимость различий в среднем количестве заказов и среднем чеке на сырых и очищенных от аномалий данных.  \n",
    "Примем решение, продолжать ли тест и сделаем выводы."
   ]
  },
  {
   "cell_type": "code",
   "execution_count": 1,
   "metadata": {
    "id": "qET754-HoWZH"
   },
   "outputs": [],
   "source": [
    "# Загрузка библиотек\n",
    "\n",
    "import pandas as pd\n",
    "import scipy.stats as stats\n",
    "import datetime as dt\n",
    "import numpy as np\n",
    "import matplotlib.pyplot as plt\n",
    "import seaborn as sns\n",
    "\n",
    "pd.set_option('display.max_colwidth', 0)"
   ]
  },
  {
   "cell_type": "markdown",
   "metadata": {},
   "source": [
    "## <a id='toc1_2_'></a>[Часть 1. Приоритизация гипотез.](#toc0_)\n"
   ]
  },
  {
   "cell_type": "markdown",
   "metadata": {},
   "source": [
    "В файле /datasets/hypothesis.csv 9 гипотез по увеличению выручки интернет-магазина с указанными параметрами `Reach`, `Impact`, `Confidence`, `Effort`.\n",
    "\n",
    "#### <a id='toc1_2_1_1_'></a>[Задачи](#toc0_)\n",
    "\n",
    "1. Применим фреймворк ICE для приоритизации гипотез. Отсортируем их по убыванию приоритета.\n",
    "2. Применим фреймворк RICE для приоритизации гипотез. Отсортируем их по убыванию приоритета.\n",
    "3. Рассмотрим, как изменилась приоритизация гипотез при применении RICE вместо ICE."
   ]
  },
  {
   "cell_type": "markdown",
   "metadata": {},
   "source": [
    "### <a id='toc1_2_2_'></a>[Описание данных](#toc0_)\n"
   ]
  },
  {
   "cell_type": "markdown",
   "metadata": {
    "id": "bqEWNkXYZYrp"
   },
   "source": [
    "Файл /datasets/hypothesis.csv\n",
    "\n",
    "* `Hypothesis` — краткое описание гипотезы;\n",
    "* `Reach` — охват пользователей по 10-балльной шкале;\n",
    "* `Impact` — влияние на пользователей по 10-балльной шкале;\n",
    "* `Confidence` — уверенность в гипотезе по 10-балльной шкале;\n",
    "* `Efforts` — затраты ресурсов на проверку гипотезы по 10-балльной шкале. Чем больше значение Efforts, тем дороже проверка гипотезы."
   ]
  },
  {
   "cell_type": "code",
   "execution_count": 2,
   "metadata": {
    "id": "a3ffwkpAqB_U"
   },
   "outputs": [],
   "source": [
    "# загрузка файла с гипотезами\n",
    "\n",
    "try:\n",
    "    df_hypothesis = pd.read_csv('/datasets/hypothesis.csv')\n",
    "except FileNotFoundError:\n",
    "    try:\n",
    "        df_hypothesis = pd.read_csv('https://code.s3.yandex.net/datasets/hypothesis.csv')\n",
    "    except FileNotFoundError as e:\n",
    "        print(\"Файл не найден\")"
   ]
  },
  {
   "cell_type": "code",
   "execution_count": 3,
   "metadata": {
    "colab": {
     "base_uri": "https://localhost:8080/",
     "height": 332
    },
    "id": "PVyKUNIzqNze",
    "outputId": "5d88722a-f62c-46ed-9b5a-0e4c28199d77"
   },
   "outputs": [
    {
     "data": {
      "text/html": [
       "<div>\n",
       "<style scoped>\n",
       "    .dataframe tbody tr th:only-of-type {\n",
       "        vertical-align: middle;\n",
       "    }\n",
       "\n",
       "    .dataframe tbody tr th {\n",
       "        vertical-align: top;\n",
       "    }\n",
       "\n",
       "    .dataframe thead th {\n",
       "        text-align: right;\n",
       "    }\n",
       "</style>\n",
       "<table border=\"1\" class=\"dataframe\">\n",
       "  <thead>\n",
       "    <tr style=\"text-align: right;\">\n",
       "      <th></th>\n",
       "      <th>Hypothesis</th>\n",
       "      <th>Reach</th>\n",
       "      <th>Impact</th>\n",
       "      <th>Confidence</th>\n",
       "      <th>Efforts</th>\n",
       "    </tr>\n",
       "  </thead>\n",
       "  <tbody>\n",
       "    <tr>\n",
       "      <th>0</th>\n",
       "      <td>Добавить два новых канала привлечения трафика, что позволит привлекать на 30% больше пользователей</td>\n",
       "      <td>3</td>\n",
       "      <td>10</td>\n",
       "      <td>8</td>\n",
       "      <td>6</td>\n",
       "    </tr>\n",
       "    <tr>\n",
       "      <th>1</th>\n",
       "      <td>Запустить собственную службу доставки, что сократит срок доставки заказов</td>\n",
       "      <td>2</td>\n",
       "      <td>5</td>\n",
       "      <td>4</td>\n",
       "      <td>10</td>\n",
       "    </tr>\n",
       "    <tr>\n",
       "      <th>2</th>\n",
       "      <td>Добавить блоки рекомендаций товаров на сайт интернет магазина, чтобы повысить конверсию и средний чек заказа</td>\n",
       "      <td>8</td>\n",
       "      <td>3</td>\n",
       "      <td>7</td>\n",
       "      <td>3</td>\n",
       "    </tr>\n",
       "    <tr>\n",
       "      <th>3</th>\n",
       "      <td>Изменить структура категорий, что увеличит конверсию, т.к. пользователи быстрее найдут нужный товар</td>\n",
       "      <td>8</td>\n",
       "      <td>3</td>\n",
       "      <td>3</td>\n",
       "      <td>8</td>\n",
       "    </tr>\n",
       "    <tr>\n",
       "      <th>4</th>\n",
       "      <td>Изменить цвет фона главной страницы, чтобы увеличить вовлеченность пользователей</td>\n",
       "      <td>3</td>\n",
       "      <td>1</td>\n",
       "      <td>1</td>\n",
       "      <td>1</td>\n",
       "    </tr>\n",
       "    <tr>\n",
       "      <th>5</th>\n",
       "      <td>Добавить страницу отзывов клиентов о магазине, что позволит увеличить количество заказов</td>\n",
       "      <td>3</td>\n",
       "      <td>2</td>\n",
       "      <td>2</td>\n",
       "      <td>3</td>\n",
       "    </tr>\n",
       "    <tr>\n",
       "      <th>6</th>\n",
       "      <td>Показать на главной странице баннеры с актуальными акциями и распродажами, чтобы увеличить конверсию</td>\n",
       "      <td>5</td>\n",
       "      <td>3</td>\n",
       "      <td>8</td>\n",
       "      <td>3</td>\n",
       "    </tr>\n",
       "    <tr>\n",
       "      <th>7</th>\n",
       "      <td>Добавить форму подписки на все основные страницы, чтобы собрать базу клиентов для email-рассылок</td>\n",
       "      <td>10</td>\n",
       "      <td>7</td>\n",
       "      <td>8</td>\n",
       "      <td>5</td>\n",
       "    </tr>\n",
       "    <tr>\n",
       "      <th>8</th>\n",
       "      <td>Запустить акцию, дающую скидку на товар в день рождения</td>\n",
       "      <td>1</td>\n",
       "      <td>9</td>\n",
       "      <td>9</td>\n",
       "      <td>5</td>\n",
       "    </tr>\n",
       "  </tbody>\n",
       "</table>\n",
       "</div>"
      ],
      "text/plain": [
       "                                                                                                     Hypothesis  \\\n",
       "0  Добавить два новых канала привлечения трафика, что позволит привлекать на 30% больше пользователей             \n",
       "1  Запустить собственную службу доставки, что сократит срок доставки заказов                                      \n",
       "2  Добавить блоки рекомендаций товаров на сайт интернет магазина, чтобы повысить конверсию и средний чек заказа   \n",
       "3  Изменить структура категорий, что увеличит конверсию, т.к. пользователи быстрее найдут нужный товар            \n",
       "4  Изменить цвет фона главной страницы, чтобы увеличить вовлеченность пользователей                               \n",
       "5  Добавить страницу отзывов клиентов о магазине, что позволит увеличить количество заказов                       \n",
       "6  Показать на главной странице баннеры с актуальными акциями и распродажами, чтобы увеличить конверсию           \n",
       "7  Добавить форму подписки на все основные страницы, чтобы собрать базу клиентов для email-рассылок               \n",
       "8  Запустить акцию, дающую скидку на товар в день рождения                                                        \n",
       "\n",
       "   Reach  Impact  Confidence  Efforts  \n",
       "0  3      10      8           6        \n",
       "1  2      5       4           10       \n",
       "2  8      3       7           3        \n",
       "3  8      3       3           8        \n",
       "4  3      1       1           1        \n",
       "5  3      2       2           3        \n",
       "6  5      3       8           3        \n",
       "7  10     7       8           5        \n",
       "8  1      9       9           5        "
      ]
     },
     "metadata": {},
     "output_type": "display_data"
    }
   ],
   "source": [
    "display(df_hypothesis)"
   ]
  },
  {
   "cell_type": "markdown",
   "metadata": {},
   "source": [
    "### <a id='toc1_2_3_'></a>[Фреймворк ICE](#toc0_)"
   ]
  },
  {
   "cell_type": "markdown",
   "metadata": {
    "id": "qTDdQ30vrJ8X"
   },
   "source": [
    "ICE рассчитывается по формуле:  \n",
    "* ICE = (`Impact` * `Confidence`) / `Efforts`"
   ]
  },
  {
   "cell_type": "code",
   "execution_count": 4,
   "metadata": {
    "id": "u_1WklbOrCVq"
   },
   "outputs": [],
   "source": [
    "# рассчитаем ICE\n",
    "df_hypothesis['ICE'] = round((df_hypothesis['Impact'] * df_hypothesis['Confidence']) / df_hypothesis['Efforts'],2)"
   ]
  },
  {
   "cell_type": "code",
   "execution_count": 5,
   "metadata": {
    "colab": {
     "base_uri": "https://localhost:8080/",
     "height": 332
    },
    "id": "dGx8PX_Dr1wL",
    "outputId": "bb3b5086-113e-45e2-c289-d6a184ac7475"
   },
   "outputs": [
    {
     "data": {
      "text/html": [
       "<div>\n",
       "<style scoped>\n",
       "    .dataframe tbody tr th:only-of-type {\n",
       "        vertical-align: middle;\n",
       "    }\n",
       "\n",
       "    .dataframe tbody tr th {\n",
       "        vertical-align: top;\n",
       "    }\n",
       "\n",
       "    .dataframe thead th {\n",
       "        text-align: right;\n",
       "    }\n",
       "</style>\n",
       "<table border=\"1\" class=\"dataframe\">\n",
       "  <thead>\n",
       "    <tr style=\"text-align: right;\">\n",
       "      <th></th>\n",
       "      <th>Hypothesis</th>\n",
       "      <th>Reach</th>\n",
       "      <th>Impact</th>\n",
       "      <th>Confidence</th>\n",
       "      <th>Efforts</th>\n",
       "      <th>ICE</th>\n",
       "    </tr>\n",
       "  </thead>\n",
       "  <tbody>\n",
       "    <tr>\n",
       "      <th>8</th>\n",
       "      <td>Запустить акцию, дающую скидку на товар в день рождения</td>\n",
       "      <td>1</td>\n",
       "      <td>9</td>\n",
       "      <td>9</td>\n",
       "      <td>5</td>\n",
       "      <td>16.20</td>\n",
       "    </tr>\n",
       "    <tr>\n",
       "      <th>0</th>\n",
       "      <td>Добавить два новых канала привлечения трафика, что позволит привлекать на 30% больше пользователей</td>\n",
       "      <td>3</td>\n",
       "      <td>10</td>\n",
       "      <td>8</td>\n",
       "      <td>6</td>\n",
       "      <td>13.33</td>\n",
       "    </tr>\n",
       "    <tr>\n",
       "      <th>7</th>\n",
       "      <td>Добавить форму подписки на все основные страницы, чтобы собрать базу клиентов для email-рассылок</td>\n",
       "      <td>10</td>\n",
       "      <td>7</td>\n",
       "      <td>8</td>\n",
       "      <td>5</td>\n",
       "      <td>11.20</td>\n",
       "    </tr>\n",
       "    <tr>\n",
       "      <th>6</th>\n",
       "      <td>Показать на главной странице баннеры с актуальными акциями и распродажами, чтобы увеличить конверсию</td>\n",
       "      <td>5</td>\n",
       "      <td>3</td>\n",
       "      <td>8</td>\n",
       "      <td>3</td>\n",
       "      <td>8.00</td>\n",
       "    </tr>\n",
       "    <tr>\n",
       "      <th>2</th>\n",
       "      <td>Добавить блоки рекомендаций товаров на сайт интернет магазина, чтобы повысить конверсию и средний чек заказа</td>\n",
       "      <td>8</td>\n",
       "      <td>3</td>\n",
       "      <td>7</td>\n",
       "      <td>3</td>\n",
       "      <td>7.00</td>\n",
       "    </tr>\n",
       "    <tr>\n",
       "      <th>1</th>\n",
       "      <td>Запустить собственную службу доставки, что сократит срок доставки заказов</td>\n",
       "      <td>2</td>\n",
       "      <td>5</td>\n",
       "      <td>4</td>\n",
       "      <td>10</td>\n",
       "      <td>2.00</td>\n",
       "    </tr>\n",
       "    <tr>\n",
       "      <th>5</th>\n",
       "      <td>Добавить страницу отзывов клиентов о магазине, что позволит увеличить количество заказов</td>\n",
       "      <td>3</td>\n",
       "      <td>2</td>\n",
       "      <td>2</td>\n",
       "      <td>3</td>\n",
       "      <td>1.33</td>\n",
       "    </tr>\n",
       "    <tr>\n",
       "      <th>3</th>\n",
       "      <td>Изменить структура категорий, что увеличит конверсию, т.к. пользователи быстрее найдут нужный товар</td>\n",
       "      <td>8</td>\n",
       "      <td>3</td>\n",
       "      <td>3</td>\n",
       "      <td>8</td>\n",
       "      <td>1.12</td>\n",
       "    </tr>\n",
       "    <tr>\n",
       "      <th>4</th>\n",
       "      <td>Изменить цвет фона главной страницы, чтобы увеличить вовлеченность пользователей</td>\n",
       "      <td>3</td>\n",
       "      <td>1</td>\n",
       "      <td>1</td>\n",
       "      <td>1</td>\n",
       "      <td>1.00</td>\n",
       "    </tr>\n",
       "  </tbody>\n",
       "</table>\n",
       "</div>"
      ],
      "text/plain": [
       "                                                                                                     Hypothesis  \\\n",
       "8  Запустить акцию, дающую скидку на товар в день рождения                                                        \n",
       "0  Добавить два новых канала привлечения трафика, что позволит привлекать на 30% больше пользователей             \n",
       "7  Добавить форму подписки на все основные страницы, чтобы собрать базу клиентов для email-рассылок               \n",
       "6  Показать на главной странице баннеры с актуальными акциями и распродажами, чтобы увеличить конверсию           \n",
       "2  Добавить блоки рекомендаций товаров на сайт интернет магазина, чтобы повысить конверсию и средний чек заказа   \n",
       "1  Запустить собственную службу доставки, что сократит срок доставки заказов                                      \n",
       "5  Добавить страницу отзывов клиентов о магазине, что позволит увеличить количество заказов                       \n",
       "3  Изменить структура категорий, что увеличит конверсию, т.к. пользователи быстрее найдут нужный товар            \n",
       "4  Изменить цвет фона главной страницы, чтобы увеличить вовлеченность пользователей                               \n",
       "\n",
       "   Reach  Impact  Confidence  Efforts    ICE  \n",
       "8  1      9       9           5        16.20  \n",
       "0  3      10      8           6        13.33  \n",
       "7  10     7       8           5        11.20  \n",
       "6  5      3       8           3        8.00   \n",
       "2  8      3       7           3        7.00   \n",
       "1  2      5       4           10       2.00   \n",
       "5  3      2       2           3        1.33   \n",
       "3  8      3       3           8        1.12   \n",
       "4  3      1       1           1        1.00   "
      ]
     },
     "metadata": {},
     "output_type": "display_data"
    }
   ],
   "source": [
    "display(df_hypothesis.sort_values(by='ICE', ascending=False))"
   ]
  },
  {
   "cell_type": "markdown",
   "metadata": {},
   "source": [
    "### <a id='toc1_2_4_'></a>[Фреймворк RICE](#toc0_)"
   ]
  },
  {
   "cell_type": "markdown",
   "metadata": {
    "id": "06_pBsgcuScZ"
   },
   "source": [
    "RICE рассчитывается по формуле:  \n",
    "* RICE = (`Reach` * `Impact` * `Confidence`) / `Efforts`"
   ]
  },
  {
   "cell_type": "code",
   "execution_count": 6,
   "metadata": {
    "id": "Yn6p6oivoNJY"
   },
   "outputs": [],
   "source": [
    "# рассчитаем RICE\n",
    "df_hypothesis['RICE'] = (df_hypothesis['Reach'] * df_hypothesis['Impact'] * df_hypothesis['Confidence']) / df_hypothesis['Efforts']"
   ]
  },
  {
   "cell_type": "code",
   "execution_count": 7,
   "metadata": {},
   "outputs": [
    {
     "data": {
      "text/html": [
       "<style  type=\"text/css\" >\n",
       "#T_5fb2f_row0_col1,#T_5fb2f_row2_col2,#T_5fb2f_row2_col4,#T_5fb2f_row3_col2,#T_5fb2f_row4_col1,#T_5fb2f_row5_col1,#T_5fb2f_row5_col4,#T_5fb2f_row6_col2,#T_5fb2f_row6_col4{\n",
       "            background-color:  #d6ebd7;\n",
       "            color:  #000000;\n",
       "        }#T_5fb2f_row0_col2,#T_5fb2f_row1_col4,#T_5fb2f_row7_col1,#T_5fb2f_row7_col6,#T_5fb2f_row8_col3,#T_5fb2f_row8_col5{\n",
       "            background-color:  #83d487;\n",
       "            color:  #000000;\n",
       "        }#T_5fb2f_row0_col3,#T_5fb2f_row6_col3,#T_5fb2f_row7_col3{\n",
       "            background-color:  #90d893;\n",
       "            color:  #000000;\n",
       "        }#T_5fb2f_row0_col4{\n",
       "            background-color:  #b2e1b4;\n",
       "            color:  #000000;\n",
       "        }#T_5fb2f_row0_col5{\n",
       "            background-color:  #97da9a;\n",
       "            color:  #000000;\n",
       "        }#T_5fb2f_row0_col6,#T_5fb2f_row6_col6{\n",
       "            background-color:  #c9e8cb;\n",
       "            color:  #000000;\n",
       "        }#T_5fb2f_row1_col1,#T_5fb2f_row5_col2{\n",
       "            background-color:  #e2efe2;\n",
       "            color:  #000000;\n",
       "        }#T_5fb2f_row1_col2,#T_5fb2f_row6_col1,#T_5fb2f_row7_col4,#T_5fb2f_row8_col4{\n",
       "            background-color:  #bee5c0;\n",
       "            color:  #000000;\n",
       "        }#T_5fb2f_row1_col3{\n",
       "            background-color:  #c5e7c7;\n",
       "            color:  #000000;\n",
       "        }#T_5fb2f_row1_col5{\n",
       "            background-color:  #e7f0e7;\n",
       "            color:  #000000;\n",
       "        }#T_5fb2f_row1_col6,#T_5fb2f_row3_col5,#T_5fb2f_row5_col6{\n",
       "            background-color:  #ecf2ed;\n",
       "            color:  #000000;\n",
       "        }#T_5fb2f_row2_col1,#T_5fb2f_row3_col1,#T_5fb2f_row3_col4{\n",
       "            background-color:  #9adb9e;\n",
       "            color:  #000000;\n",
       "        }#T_5fb2f_row2_col3{\n",
       "            background-color:  #9ddba0;\n",
       "            color:  #000000;\n",
       "        }#T_5fb2f_row2_col5{\n",
       "            background-color:  #c3e6c5;\n",
       "            color:  #000000;\n",
       "        }#T_5fb2f_row2_col6{\n",
       "            background-color:  #bae3bc;\n",
       "            color:  #000000;\n",
       "        }#T_5fb2f_row3_col3{\n",
       "            background-color:  #d3ead4;\n",
       "            color:  #000000;\n",
       "        }#T_5fb2f_row3_col6{\n",
       "            background-color:  #e7f0e8;\n",
       "            color:  #000000;\n",
       "        }#T_5fb2f_row4_col2,#T_5fb2f_row4_col3,#T_5fb2f_row4_col4,#T_5fb2f_row4_col5,#T_5fb2f_row4_col6,#T_5fb2f_row8_col1{\n",
       "            background-color:  #edf2ed;\n",
       "            color:  #000000;\n",
       "        }#T_5fb2f_row5_col3,#T_5fb2f_row8_col6{\n",
       "            background-color:  #e0eee1;\n",
       "            color:  #000000;\n",
       "        }#T_5fb2f_row5_col5{\n",
       "            background-color:  #ebf1eb;\n",
       "            color:  #000000;\n",
       "        }#T_5fb2f_row6_col5{\n",
       "            background-color:  #bde4be;\n",
       "            color:  #000000;\n",
       "        }#T_5fb2f_row7_col2,#T_5fb2f_row7_col5{\n",
       "            background-color:  #a6dea9;\n",
       "            color:  #000000;\n",
       "        }#T_5fb2f_row8_col2{\n",
       "            background-color:  #8fd792;\n",
       "            color:  #000000;\n",
       "        }</style><table id=\"T_5fb2f_\" ><thead>    <tr>        <th class=\"blank level0\" ></th>        <th class=\"col_heading level0 col0\" >Hypothesis</th>        <th class=\"col_heading level0 col1\" >Reach</th>        <th class=\"col_heading level0 col2\" >Impact</th>        <th class=\"col_heading level0 col3\" >Confidence</th>        <th class=\"col_heading level0 col4\" >Efforts</th>        <th class=\"col_heading level0 col5\" >ICE</th>        <th class=\"col_heading level0 col6\" >RICE</th>    </tr></thead><tbody>\n",
       "                <tr>\n",
       "                        <th id=\"T_5fb2f_level0_row0\" class=\"row_heading level0 row0\" >0</th>\n",
       "                        <td id=\"T_5fb2f_row0_col0\" class=\"data row0 col0\" >Добавить два новых канала привлечения трафика, что позволит привлекать на 30% больше пользователей</td>\n",
       "                        <td id=\"T_5fb2f_row0_col1\" class=\"data row0 col1\" >3</td>\n",
       "                        <td id=\"T_5fb2f_row0_col2\" class=\"data row0 col2\" >10</td>\n",
       "                        <td id=\"T_5fb2f_row0_col3\" class=\"data row0 col3\" >8</td>\n",
       "                        <td id=\"T_5fb2f_row0_col4\" class=\"data row0 col4\" >6</td>\n",
       "                        <td id=\"T_5fb2f_row0_col5\" class=\"data row0 col5\" >13.33</td>\n",
       "                        <td id=\"T_5fb2f_row0_col6\" class=\"data row0 col6\" >40.00</td>\n",
       "            </tr>\n",
       "            <tr>\n",
       "                        <th id=\"T_5fb2f_level0_row1\" class=\"row_heading level0 row1\" >1</th>\n",
       "                        <td id=\"T_5fb2f_row1_col0\" class=\"data row1 col0\" >Запустить собственную службу доставки, что сократит срок доставки заказов</td>\n",
       "                        <td id=\"T_5fb2f_row1_col1\" class=\"data row1 col1\" >2</td>\n",
       "                        <td id=\"T_5fb2f_row1_col2\" class=\"data row1 col2\" >5</td>\n",
       "                        <td id=\"T_5fb2f_row1_col3\" class=\"data row1 col3\" >4</td>\n",
       "                        <td id=\"T_5fb2f_row1_col4\" class=\"data row1 col4\" >10</td>\n",
       "                        <td id=\"T_5fb2f_row1_col5\" class=\"data row1 col5\" >2.00</td>\n",
       "                        <td id=\"T_5fb2f_row1_col6\" class=\"data row1 col6\" >4.00</td>\n",
       "            </tr>\n",
       "            <tr>\n",
       "                        <th id=\"T_5fb2f_level0_row2\" class=\"row_heading level0 row2\" >2</th>\n",
       "                        <td id=\"T_5fb2f_row2_col0\" class=\"data row2 col0\" >Добавить блоки рекомендаций товаров на сайт интернет магазина, чтобы повысить конверсию и средний чек заказа</td>\n",
       "                        <td id=\"T_5fb2f_row2_col1\" class=\"data row2 col1\" >8</td>\n",
       "                        <td id=\"T_5fb2f_row2_col2\" class=\"data row2 col2\" >3</td>\n",
       "                        <td id=\"T_5fb2f_row2_col3\" class=\"data row2 col3\" >7</td>\n",
       "                        <td id=\"T_5fb2f_row2_col4\" class=\"data row2 col4\" >3</td>\n",
       "                        <td id=\"T_5fb2f_row2_col5\" class=\"data row2 col5\" >7.00</td>\n",
       "                        <td id=\"T_5fb2f_row2_col6\" class=\"data row2 col6\" >56.00</td>\n",
       "            </tr>\n",
       "            <tr>\n",
       "                        <th id=\"T_5fb2f_level0_row3\" class=\"row_heading level0 row3\" >3</th>\n",
       "                        <td id=\"T_5fb2f_row3_col0\" class=\"data row3 col0\" >Изменить структура категорий, что увеличит конверсию, т.к. пользователи быстрее найдут нужный товар</td>\n",
       "                        <td id=\"T_5fb2f_row3_col1\" class=\"data row3 col1\" >8</td>\n",
       "                        <td id=\"T_5fb2f_row3_col2\" class=\"data row3 col2\" >3</td>\n",
       "                        <td id=\"T_5fb2f_row3_col3\" class=\"data row3 col3\" >3</td>\n",
       "                        <td id=\"T_5fb2f_row3_col4\" class=\"data row3 col4\" >8</td>\n",
       "                        <td id=\"T_5fb2f_row3_col5\" class=\"data row3 col5\" >1.12</td>\n",
       "                        <td id=\"T_5fb2f_row3_col6\" class=\"data row3 col6\" >9.00</td>\n",
       "            </tr>\n",
       "            <tr>\n",
       "                        <th id=\"T_5fb2f_level0_row4\" class=\"row_heading level0 row4\" >4</th>\n",
       "                        <td id=\"T_5fb2f_row4_col0\" class=\"data row4 col0\" >Изменить цвет фона главной страницы, чтобы увеличить вовлеченность пользователей</td>\n",
       "                        <td id=\"T_5fb2f_row4_col1\" class=\"data row4 col1\" >3</td>\n",
       "                        <td id=\"T_5fb2f_row4_col2\" class=\"data row4 col2\" >1</td>\n",
       "                        <td id=\"T_5fb2f_row4_col3\" class=\"data row4 col3\" >1</td>\n",
       "                        <td id=\"T_5fb2f_row4_col4\" class=\"data row4 col4\" >1</td>\n",
       "                        <td id=\"T_5fb2f_row4_col5\" class=\"data row4 col5\" >1.00</td>\n",
       "                        <td id=\"T_5fb2f_row4_col6\" class=\"data row4 col6\" >3.00</td>\n",
       "            </tr>\n",
       "            <tr>\n",
       "                        <th id=\"T_5fb2f_level0_row5\" class=\"row_heading level0 row5\" >5</th>\n",
       "                        <td id=\"T_5fb2f_row5_col0\" class=\"data row5 col0\" >Добавить страницу отзывов клиентов о магазине, что позволит увеличить количество заказов</td>\n",
       "                        <td id=\"T_5fb2f_row5_col1\" class=\"data row5 col1\" >3</td>\n",
       "                        <td id=\"T_5fb2f_row5_col2\" class=\"data row5 col2\" >2</td>\n",
       "                        <td id=\"T_5fb2f_row5_col3\" class=\"data row5 col3\" >2</td>\n",
       "                        <td id=\"T_5fb2f_row5_col4\" class=\"data row5 col4\" >3</td>\n",
       "                        <td id=\"T_5fb2f_row5_col5\" class=\"data row5 col5\" >1.33</td>\n",
       "                        <td id=\"T_5fb2f_row5_col6\" class=\"data row5 col6\" >4.00</td>\n",
       "            </tr>\n",
       "            <tr>\n",
       "                        <th id=\"T_5fb2f_level0_row6\" class=\"row_heading level0 row6\" >6</th>\n",
       "                        <td id=\"T_5fb2f_row6_col0\" class=\"data row6 col0\" >Показать на главной странице баннеры с актуальными акциями и распродажами, чтобы увеличить конверсию</td>\n",
       "                        <td id=\"T_5fb2f_row6_col1\" class=\"data row6 col1\" >5</td>\n",
       "                        <td id=\"T_5fb2f_row6_col2\" class=\"data row6 col2\" >3</td>\n",
       "                        <td id=\"T_5fb2f_row6_col3\" class=\"data row6 col3\" >8</td>\n",
       "                        <td id=\"T_5fb2f_row6_col4\" class=\"data row6 col4\" >3</td>\n",
       "                        <td id=\"T_5fb2f_row6_col5\" class=\"data row6 col5\" >8.00</td>\n",
       "                        <td id=\"T_5fb2f_row6_col6\" class=\"data row6 col6\" >40.00</td>\n",
       "            </tr>\n",
       "            <tr>\n",
       "                        <th id=\"T_5fb2f_level0_row7\" class=\"row_heading level0 row7\" >7</th>\n",
       "                        <td id=\"T_5fb2f_row7_col0\" class=\"data row7 col0\" >Добавить форму подписки на все основные страницы, чтобы собрать базу клиентов для email-рассылок</td>\n",
       "                        <td id=\"T_5fb2f_row7_col1\" class=\"data row7 col1\" >10</td>\n",
       "                        <td id=\"T_5fb2f_row7_col2\" class=\"data row7 col2\" >7</td>\n",
       "                        <td id=\"T_5fb2f_row7_col3\" class=\"data row7 col3\" >8</td>\n",
       "                        <td id=\"T_5fb2f_row7_col4\" class=\"data row7 col4\" >5</td>\n",
       "                        <td id=\"T_5fb2f_row7_col5\" class=\"data row7 col5\" >11.20</td>\n",
       "                        <td id=\"T_5fb2f_row7_col6\" class=\"data row7 col6\" >112.00</td>\n",
       "            </tr>\n",
       "            <tr>\n",
       "                        <th id=\"T_5fb2f_level0_row8\" class=\"row_heading level0 row8\" >8</th>\n",
       "                        <td id=\"T_5fb2f_row8_col0\" class=\"data row8 col0\" >Запустить акцию, дающую скидку на товар в день рождения</td>\n",
       "                        <td id=\"T_5fb2f_row8_col1\" class=\"data row8 col1\" >1</td>\n",
       "                        <td id=\"T_5fb2f_row8_col2\" class=\"data row8 col2\" >9</td>\n",
       "                        <td id=\"T_5fb2f_row8_col3\" class=\"data row8 col3\" >9</td>\n",
       "                        <td id=\"T_5fb2f_row8_col4\" class=\"data row8 col4\" >5</td>\n",
       "                        <td id=\"T_5fb2f_row8_col5\" class=\"data row8 col5\" >16.20</td>\n",
       "                        <td id=\"T_5fb2f_row8_col6\" class=\"data row8 col6\" >16.20</td>\n",
       "            </tr>\n",
       "    </tbody></table>"
      ],
      "text/plain": [
       "<pandas.io.formats.style.Styler at 0x7fad1c58c970>"
      ]
     },
     "execution_count": 7,
     "metadata": {},
     "output_type": "execute_result"
    }
   ],
   "source": [
    "cm = sns.light_palette(\"#83d487\", as_cmap=True)\n",
    "\n",
    "df_hypothesis.style.background_gradient(cmap=cm).format('{:.2f}', subset=['ICE','RICE'])"
   ]
  },
  {
   "cell_type": "markdown",
   "metadata": {},
   "source": [
    "### <a id='toc1_2_5_'></a>[Выводы](#toc0_)"
   ]
  },
  {
   "cell_type": "markdown",
   "metadata": {
    "id": "WehV2_ajZUHo"
   },
   "source": [
    "\n",
    "ICE отличается от RICE на параметр `Reach`, который отражает долю пользователей, которую затронут изменения, и измеряется от 0 (охват гипотезы никого из пользователей не затронет) до 10 (гипотеза охватит хотя бы половину пользователей).\n",
    "\n",
    "По результатам ICE приоритет получают гипотезы **№№ 8, 0, 7**.  \n",
    "\n",
    "После расчета RICE гипотезы **№№ 7, 2, 0** получают более высокий приоритет и\n",
    "могут быть рекомендованы для тестирования в первую очередь.\n",
    "\n",
    "Гипотеза **№8** получила низкий бал `Reach` и опускается на 5-ое место по приоритету рассмотрения.\n",
    "\n",
    "\n",
    "---\n",
    "\n"
   ]
  },
  {
   "cell_type": "markdown",
   "metadata": {},
   "source": [
    "## <a id='toc1_3_'></a>[Часть 2. Анализ A/B-теста](#toc0_)\n"
   ]
  },
  {
   "cell_type": "markdown",
   "metadata": {},
   "source": [
    "По итогам A/B-теста были получены результаты, которые описаны в файлах /datasets/orders.csv и /datasets/visitors.csv.  \n",
    "\n",
    "#### <a id='toc1_3_1_1_'></a>[Задачи](#toc0_)\n",
    "\n",
    "Проанализируем A/B-тест:  \n",
    "\n",
    "1. Построим график кумулятивной выручки по группам.\n",
    "2. Построим график кумулятивного среднего чека по группам.\n",
    "3. Построим график относительного изменения кумулятивного среднего чека группы B к группе A.\n",
    "4. Построим график кумулятивного среднего количества заказов на посетителя по группам.\n",
    "5. Построим график относительного изменения кумулятивного среднего количества заказов на посетителя группы B к группе A.\n",
    "6. Построим точечный график количества заказов по пользователям.\n",
    "7. Посчитаем 95-й и 99-й перцентили количества заказов на пользователя. Выберем границу для определения аномальных пользователей.\n",
    "8. Построим точечный график стоимостей заказов. \n",
    "9. Посчитаем 95-й и 99-й перцентили стоимости заказов. Выберем границу для определения аномальных заказов.\n",
    "10. Посчитаем статистическую значимость различий в среднем количестве заказов на посетителя между группами по «сырым» данным. \n",
    "11. Посчитаем статистическую значимость различий в среднем чеке заказа между группами по «сырым» данным. \n",
    "12. Посчитаем статистическую значимость различий в среднем количестве заказов на посетителя между группами по «очищенным» данным.\n",
    "13. Посчитаем статистическую значимость различий в среднем чеке заказа между группами по «очищенным» данным. \n",
    "14. Примем решение по результатам теста и объясним его."
   ]
  },
  {
   "cell_type": "markdown",
   "metadata": {},
   "source": [
    "### <a id='toc1_3_2_'></a>[Загрузка и описание данных](#toc0_)\n"
   ]
  },
  {
   "cell_type": "markdown",
   "metadata": {},
   "source": [
    "#### <a id='toc1_3_2_1_'></a>[Описание данных](#toc0_)"
   ]
  },
  {
   "cell_type": "markdown",
   "metadata": {
    "id": "8v2zTfoL6w0N"
   },
   "source": [
    "1. Файл /datasets/orders.csv\n",
    "\n",
    "* `transactionId` — идентификатор заказа;  \n",
    "* `visitorId` — идентификатор пользователя, совершившего заказ;  \n",
    "* `date` — дата, когда был совершён заказ;  \n",
    "* `revenue` — выручка заказа;  \n",
    "* `group` — группа A/B-теста, в которую попал заказ.  \n",
    "\n",
    "<br/>\n",
    "\n",
    "2. Файл /datasets/visitors.csv\n",
    "\n",
    "* `date` — дата;\n",
    "* `group` — группа A/B-теста;\n",
    "* `visitors` — количество пользователей в указанную дату в указанной группе A/B-теста"
   ]
  },
  {
   "cell_type": "markdown",
   "metadata": {},
   "source": [
    "#### <a id='toc1_3_2_2_'></a>[Загрузка и анализ данных](#toc0_)"
   ]
  },
  {
   "cell_type": "code",
   "execution_count": 8,
   "metadata": {
    "id": "FS8eh87ocOlw"
   },
   "outputs": [],
   "source": [
    "# загрузка файла с заказами\n",
    "\n",
    "try:\n",
    "    df_orders = pd.read_csv('/datasets/orders.csv')\n",
    "except FileNotFoundError:\n",
    "    try:\n",
    "        df_orders = pd.read_csv('https://code.s3.yandex.net/datasets/orders.csv')\n",
    "    except FileNotFoundError as e:\n",
    "        print(\"Файл 'orders' не найден\")"
   ]
  },
  {
   "cell_type": "code",
   "execution_count": 9,
   "metadata": {
    "id": "CTNvHqDdcOJK"
   },
   "outputs": [],
   "source": [
    "# загрузка файла с визитами\n",
    "\n",
    "try:\n",
    "    df_visitors = pd.read_csv('/datasets/visitors.csv')\n",
    "except FileNotFoundError:\n",
    "    try:\n",
    "        df_visitors = pd.read_csv('https://code.s3.yandex.net/datasets/visitors.csv')\n",
    "    except FileNotFoundError as e:\n",
    "        print(\"Файл 'visitors' не найден\")"
   ]
  },
  {
   "cell_type": "code",
   "execution_count": 10,
   "metadata": {
    "id": "6LdjQLWbdF7x"
   },
   "outputs": [],
   "source": [
    "# Напишем функцию обзора датафрейма\n",
    "def df_info (df):\n",
    "  print('Первые 5 строк:\\n')\n",
    "  display(df.head())\n",
    "  print('-'*60)\n",
    "\n",
    "  print('Общая информация:\\n')\n",
    "  df.info()\n",
    "  print('-'*60)\n",
    "\n",
    "  print('Количество дубликатов:\\n')\n",
    "  print(df.duplicated().sum())\n",
    "  print('-'*60)\n",
    "\n",
    "  print('Количество пропусков:\\n')\n",
    "  print(df.isnull().sum().sort_values(ascending=False))\n",
    "  print('-'*60)\n"
   ]
  },
  {
   "cell_type": "code",
   "execution_count": 11,
   "metadata": {
    "colab": {
     "base_uri": "https://localhost:8080/",
     "height": 744
    },
    "id": "jcfTZnxFdFxa",
    "outputId": "19291fd4-059d-4608-d9b0-37fe3ba7cfb1"
   },
   "outputs": [
    {
     "name": "stdout",
     "output_type": "stream",
     "text": [
      "Первые 5 строк:\n",
      "\n"
     ]
    },
    {
     "data": {
      "text/html": [
       "<div>\n",
       "<style scoped>\n",
       "    .dataframe tbody tr th:only-of-type {\n",
       "        vertical-align: middle;\n",
       "    }\n",
       "\n",
       "    .dataframe tbody tr th {\n",
       "        vertical-align: top;\n",
       "    }\n",
       "\n",
       "    .dataframe thead th {\n",
       "        text-align: right;\n",
       "    }\n",
       "</style>\n",
       "<table border=\"1\" class=\"dataframe\">\n",
       "  <thead>\n",
       "    <tr style=\"text-align: right;\">\n",
       "      <th></th>\n",
       "      <th>transactionId</th>\n",
       "      <th>visitorId</th>\n",
       "      <th>date</th>\n",
       "      <th>revenue</th>\n",
       "      <th>group</th>\n",
       "    </tr>\n",
       "  </thead>\n",
       "  <tbody>\n",
       "    <tr>\n",
       "      <th>0</th>\n",
       "      <td>3667963787</td>\n",
       "      <td>3312258926</td>\n",
       "      <td>2019-08-15</td>\n",
       "      <td>1650</td>\n",
       "      <td>B</td>\n",
       "    </tr>\n",
       "    <tr>\n",
       "      <th>1</th>\n",
       "      <td>2804400009</td>\n",
       "      <td>3642806036</td>\n",
       "      <td>2019-08-15</td>\n",
       "      <td>730</td>\n",
       "      <td>B</td>\n",
       "    </tr>\n",
       "    <tr>\n",
       "      <th>2</th>\n",
       "      <td>2961555356</td>\n",
       "      <td>4069496402</td>\n",
       "      <td>2019-08-15</td>\n",
       "      <td>400</td>\n",
       "      <td>A</td>\n",
       "    </tr>\n",
       "    <tr>\n",
       "      <th>3</th>\n",
       "      <td>3797467345</td>\n",
       "      <td>1196621759</td>\n",
       "      <td>2019-08-15</td>\n",
       "      <td>9759</td>\n",
       "      <td>B</td>\n",
       "    </tr>\n",
       "    <tr>\n",
       "      <th>4</th>\n",
       "      <td>2282983706</td>\n",
       "      <td>2322279887</td>\n",
       "      <td>2019-08-15</td>\n",
       "      <td>2308</td>\n",
       "      <td>B</td>\n",
       "    </tr>\n",
       "  </tbody>\n",
       "</table>\n",
       "</div>"
      ],
      "text/plain": [
       "   transactionId   visitorId        date  revenue group\n",
       "0  3667963787     3312258926  2019-08-15  1650     B   \n",
       "1  2804400009     3642806036  2019-08-15  730      B   \n",
       "2  2961555356     4069496402  2019-08-15  400      A   \n",
       "3  3797467345     1196621759  2019-08-15  9759     B   \n",
       "4  2282983706     2322279887  2019-08-15  2308     B   "
      ]
     },
     "metadata": {},
     "output_type": "display_data"
    },
    {
     "name": "stdout",
     "output_type": "stream",
     "text": [
      "------------------------------------------------------------\n",
      "Общая информация:\n",
      "\n",
      "<class 'pandas.core.frame.DataFrame'>\n",
      "RangeIndex: 1197 entries, 0 to 1196\n",
      "Data columns (total 5 columns):\n",
      " #   Column         Non-Null Count  Dtype \n",
      "---  ------         --------------  ----- \n",
      " 0   transactionId  1197 non-null   int64 \n",
      " 1   visitorId      1197 non-null   int64 \n",
      " 2   date           1197 non-null   object\n",
      " 3   revenue        1197 non-null   int64 \n",
      " 4   group          1197 non-null   object\n",
      "dtypes: int64(3), object(2)\n",
      "memory usage: 46.9+ KB\n",
      "------------------------------------------------------------\n",
      "Количество дубликатов:\n",
      "\n",
      "0\n",
      "------------------------------------------------------------\n",
      "Количество пропусков:\n",
      "\n",
      "transactionId    0\n",
      "visitorId        0\n",
      "date             0\n",
      "revenue          0\n",
      "group            0\n",
      "dtype: int64\n",
      "------------------------------------------------------------\n"
     ]
    }
   ],
   "source": [
    "# Посмотрим на данные из таблицы заказов\n",
    "df_info(df_orders)"
   ]
  },
  {
   "cell_type": "code",
   "execution_count": 12,
   "metadata": {
    "colab": {
     "base_uri": "https://localhost:8080/",
     "height": 675
    },
    "id": "M8lb2qbqpesV",
    "outputId": "44c7f0d8-7d9e-4e8c-e1b7-1753d612a039"
   },
   "outputs": [
    {
     "name": "stdout",
     "output_type": "stream",
     "text": [
      "Первые 5 строк:\n",
      "\n"
     ]
    },
    {
     "data": {
      "text/html": [
       "<div>\n",
       "<style scoped>\n",
       "    .dataframe tbody tr th:only-of-type {\n",
       "        vertical-align: middle;\n",
       "    }\n",
       "\n",
       "    .dataframe tbody tr th {\n",
       "        vertical-align: top;\n",
       "    }\n",
       "\n",
       "    .dataframe thead th {\n",
       "        text-align: right;\n",
       "    }\n",
       "</style>\n",
       "<table border=\"1\" class=\"dataframe\">\n",
       "  <thead>\n",
       "    <tr style=\"text-align: right;\">\n",
       "      <th></th>\n",
       "      <th>date</th>\n",
       "      <th>group</th>\n",
       "      <th>visitors</th>\n",
       "    </tr>\n",
       "  </thead>\n",
       "  <tbody>\n",
       "    <tr>\n",
       "      <th>0</th>\n",
       "      <td>2019-08-01</td>\n",
       "      <td>A</td>\n",
       "      <td>719</td>\n",
       "    </tr>\n",
       "    <tr>\n",
       "      <th>1</th>\n",
       "      <td>2019-08-02</td>\n",
       "      <td>A</td>\n",
       "      <td>619</td>\n",
       "    </tr>\n",
       "    <tr>\n",
       "      <th>2</th>\n",
       "      <td>2019-08-03</td>\n",
       "      <td>A</td>\n",
       "      <td>507</td>\n",
       "    </tr>\n",
       "    <tr>\n",
       "      <th>3</th>\n",
       "      <td>2019-08-04</td>\n",
       "      <td>A</td>\n",
       "      <td>717</td>\n",
       "    </tr>\n",
       "    <tr>\n",
       "      <th>4</th>\n",
       "      <td>2019-08-05</td>\n",
       "      <td>A</td>\n",
       "      <td>756</td>\n",
       "    </tr>\n",
       "  </tbody>\n",
       "</table>\n",
       "</div>"
      ],
      "text/plain": [
       "         date group  visitors\n",
       "0  2019-08-01  A     719     \n",
       "1  2019-08-02  A     619     \n",
       "2  2019-08-03  A     507     \n",
       "3  2019-08-04  A     717     \n",
       "4  2019-08-05  A     756     "
      ]
     },
     "metadata": {},
     "output_type": "display_data"
    },
    {
     "name": "stdout",
     "output_type": "stream",
     "text": [
      "------------------------------------------------------------\n",
      "Общая информация:\n",
      "\n",
      "<class 'pandas.core.frame.DataFrame'>\n",
      "RangeIndex: 62 entries, 0 to 61\n",
      "Data columns (total 3 columns):\n",
      " #   Column    Non-Null Count  Dtype \n",
      "---  ------    --------------  ----- \n",
      " 0   date      62 non-null     object\n",
      " 1   group     62 non-null     object\n",
      " 2   visitors  62 non-null     int64 \n",
      "dtypes: int64(1), object(2)\n",
      "memory usage: 1.6+ KB\n",
      "------------------------------------------------------------\n",
      "Количество дубликатов:\n",
      "\n",
      "0\n",
      "------------------------------------------------------------\n",
      "Количество пропусков:\n",
      "\n",
      "date        0\n",
      "group       0\n",
      "visitors    0\n",
      "dtype: int64\n",
      "------------------------------------------------------------\n"
     ]
    }
   ],
   "source": [
    "# Посмотрим на данные из таблицы посетителей\n",
    "df_info(df_visitors)"
   ]
  },
  {
   "cell_type": "code",
   "execution_count": 13,
   "metadata": {
    "colab": {
     "base_uri": "https://localhost:8080/"
    },
    "id": "AarZtFaIdFjx",
    "outputId": "dba061bb-325e-4a0d-b0d4-64805625282d"
   },
   "outputs": [
    {
     "name": "stdout",
     "output_type": "stream",
     "text": [
      "Распределение заказов по группам:\n",
      " B    640\n",
      "A    557\n",
      "Name: group, dtype: int64\n",
      "Распределение записей количества посетителей по группам:\n",
      " A    31\n",
      "B    31\n",
      "Name: group, dtype: int64\n"
     ]
    }
   ],
   "source": [
    "# Проверим распределение по группам\n",
    "print('Распределение заказов по группам:\\n',df_orders.group.value_counts())\n",
    "print('Распределение записей количества посетителей по группам:\\n',df_visitors.group.value_counts())"
   ]
  },
  {
   "cell_type": "code",
   "execution_count": 14,
   "metadata": {
    "colab": {
     "base_uri": "https://localhost:8080/"
    },
    "id": "8i4YXiRvueBG",
    "outputId": "bdbdd394-2fcb-4625-c254-62ca7d157d5c"
   },
   "outputs": [
    {
     "name": "stdout",
     "output_type": "stream",
     "text": [
      "Количество уникальных пользователей в группе \"А\" : 503\n",
      "Количество уникальных пользователей в группе \"B\" : 586\n",
      "Всего уникальных пользователей в обеих группах : 1031\n"
     ]
    }
   ],
   "source": [
    "# Проверим количество уникальных пользователей в таблице c заказами\n",
    "print('Количество уникальных пользователей в группе \"А\" :', df_orders[df_orders['group'] =='A']['visitorId'].nunique())\n",
    "print('Количество уникальных пользователей в группе \"B\" :', df_orders[df_orders['group'] =='B']['visitorId'].nunique())\n",
    "print('Всего уникальных пользователей в обеих группах :', df_orders['visitorId'].nunique())\n"
   ]
  },
  {
   "cell_type": "code",
   "execution_count": 15,
   "metadata": {
    "colab": {
     "base_uri": "https://localhost:8080/"
    },
    "id": "10oh0Iapw5F5",
    "outputId": "257df065-ea52-435f-f856-9238ba1afd85"
   },
   "outputs": [
    {
     "name": "stdout",
     "output_type": "stream",
     "text": [
      "Количество пользователей, попавших в обе группы: 58\n"
     ]
    }
   ],
   "source": [
    "# Проверим, нет ли пересечения пользователей в группах\n",
    "df_unique_group_a_visitors = df_orders[df_orders['group'] =='A']['visitorId'].values\n",
    "df_unique_group_b_visitors = df_orders[df_orders['group'] =='B']['visitorId'].values\n",
    "common_visitors = np.intersect1d(df_unique_group_a_visitors, df_unique_group_b_visitors)\n",
    "print('Количество пользователей, попавших в обе группы:', len(common_visitors))"
   ]
  },
  {
   "cell_type": "code",
   "execution_count": 16,
   "metadata": {},
   "outputs": [
    {
     "name": "stdout",
     "output_type": "stream",
     "text": [
      "Количество уникальных пользователей в группе \"А\" : 445\n",
      "Количество уникальных пользователей в группе \"B\" : 528\n",
      "Всего уникальных пользователей в обеих группах : 973\n"
     ]
    }
   ],
   "source": [
    "# Создадим отдельный датафрейм без дублированных пользователей\n",
    "\n",
    "df_orders_clear = df_orders.copy()\n",
    "df_orders_clear = df_orders_clear[~df_orders_clear['visitorId'].isin(common_visitors)]\n",
    "\n",
    "print('Количество уникальных пользователей в группе \"А\" :', df_orders_clear[df_orders_clear['group'] =='A']['visitorId'].nunique())\n",
    "print('Количество уникальных пользователей в группе \"B\" :', df_orders_clear[df_orders_clear['group'] =='B']['visitorId'].nunique())\n",
    "print('Всего уникальных пользователей в обеих группах :', df_orders_clear['visitorId'].nunique())"
   ]
  },
  {
   "cell_type": "code",
   "execution_count": 17,
   "metadata": {
    "id": "xBzPsb5Ww4gy"
   },
   "outputs": [],
   "source": [
    "# Преобразуем столбцы с датами в датасетах\n",
    "df_orders.date = pd.to_datetime(df_orders.date)\n",
    "df_orders_clear.date = pd.to_datetime(df_orders_clear.date)\n",
    "df_visitors.date = pd.to_datetime(df_visitors.date)"
   ]
  },
  {
   "cell_type": "code",
   "execution_count": 18,
   "metadata": {
    "colab": {
     "base_uri": "https://localhost:8080/"
    },
    "id": "xXoiLesdoXzp",
    "outputId": "ecd92c56-d256-4a83-a992-05ee7f42ea27"
   },
   "outputs": [
    {
     "name": "stdout",
     "output_type": "stream",
     "text": [
      "Временной интервал в датасете orders:  2019-08-01 - 2019-08-31\n",
      "Временной интервал в датасете visitors:  2019-08-01 - 2019-08-31\n"
     ]
    }
   ],
   "source": [
    "# Сравним временные интервалы в датасетах на соответствие\n",
    "print('Временной интервал в датасете orders: ',df_orders.date.dt.date.min(),'-',df_orders.date.dt.date.max())\n",
    "print('Временной интервал в датасете visitors: ',df_visitors.date.dt.date.min(),'-',df_visitors.date.dt.date.max())"
   ]
  },
  {
   "cell_type": "markdown",
   "metadata": {
    "id": "fEzafD_JaltC"
   },
   "source": [
    "----\n",
    "Были успешно загружены два датасета — с заказами и количеством посетителей по дням.  \n",
    "Пропуски и явные дубликаты не обнаружены.\n",
    "\n",
    "\n",
    "В таблице с заказами загружено 1197 строки, из них к группе \"А\" относятся 557 заказов, к группе \"B\" — 640 заказов.  \n",
    "\n",
    "Количество уникальных пользователей в группе \"А\" — 503, в группе \"В\" — 586. Всего 1031 уникальных пользователя.\n",
    "\n",
    "Было обнаружено пересечение пользователей — 58 человек оказались в обеих группах. Удалить полностью из расчетов мы их не можем, так как нельзя отделить информацию по посещениям данных пользователей. Выделены в отдельный датафрейм данные без пересекающихся пользователей. В дальнейшем необходимо по возможности выявить причину и иметь ввиду возможное влияние на результат теста.\n",
    "\n",
    "В датасетах сверены на соответствие даты — временной интервал совпадает: записи с 01 по 31 августа 2019 года.\n",
    "\n",
    "\n",
    "\n",
    "\n",
    "\n",
    "\n",
    "---\n",
    "\n"
   ]
  },
  {
   "cell_type": "markdown",
   "metadata": {},
   "source": [
    "### <a id='toc1_3_3_'></a>[Анализ A/B-теста](#toc0_)"
   ]
  },
  {
   "cell_type": "markdown",
   "metadata": {},
   "source": [
    "#### <a id='toc1_3_3_1_'></a>[График кумулятивной выручки по группам](#toc0_)"
   ]
  },
  {
   "cell_type": "code",
   "execution_count": 19,
   "metadata": {
    "colab": {
     "base_uri": "https://localhost:8080/"
    },
    "id": "wTq48Jn28OC5",
    "outputId": "ed970d1c-b0da-4a14-86dd-30d9f664d8cf"
   },
   "outputs": [
    {
     "name": "stdout",
     "output_type": "stream",
     "text": [
      "        date group  orders  buyers  revenue  visitors\n",
      "0 2019-08-01  A     24      20      148579   719     \n",
      "1 2019-08-01  B     21      20      101217   713     \n",
      "2 2019-08-02  A     44      38      242401   1338    \n",
      "3 2019-08-02  B     45      43      266748   1294    \n",
      "4 2019-08-03  A     68      62      354874   1845    \n"
     ]
    }
   ],
   "source": [
    "# создаем массив уникальных пар значений дат и групп теста\n",
    "datesGroups = df_orders[['date','group']].drop_duplicates()\n",
    "\n",
    "# получаем агрегированные кумулятивные по дням данные о заказах\n",
    "ordersAggregated = datesGroups.apply(lambda x: df_orders[np.logical_and(df_orders['date'] <= x['date'],\n",
    "  df_orders['group'] == x['group'])] \\\n",
    "  .agg({'date' : 'max', 'group' : 'max', 'transactionId' : 'nunique', 'visitorId' : 'nunique', 'revenue' : 'sum'}), axis=1) \\\n",
    "  .sort_values(by=['date','group'])\n",
    "\n",
    "# получаем агрегированные кумулятивные по дням данные о посетителях интернет-магазина\n",
    "visitorsAggregated = datesGroups.apply(lambda x: df_visitors[np.logical_and(df_visitors['date'] <= x['date'], df_visitors['group'] == x['group'])] \\\n",
    "  .agg({'date' : 'max', 'group' : 'max', 'visitors' : 'sum'}), axis=1) \\\n",
    "  .sort_values(by=['date','group'])\n",
    "\n",
    "# объединяем кумулятивные данные в одной таблице и присваиваем ее столбцам понятные названия\n",
    "cumulativeData = ordersAggregated.merge(visitorsAggregated, left_on=['date', 'group'], right_on=['date', 'group'])\n",
    "cumulativeData.columns = ['date', 'group', 'orders', 'buyers', 'revenue', 'visitors']\n",
    "\n",
    "print(cumulativeData.head(5))"
   ]
  },
  {
   "cell_type": "code",
   "execution_count": 20,
   "metadata": {
    "colab": {
     "base_uri": "https://localhost:8080/",
     "height": 314
    },
    "id": "ovoT48enhHQx",
    "outputId": "def11613-3039-435a-b8e2-7b5969103422",
    "scrolled": true
   },
   "outputs": [
    {
     "data": {
      "image/png": "[encoded data removed]",
      "text/plain": [
       "<Figure size 864x216 with 1 Axes>"
      ]
     },
     "metadata": {
      "needs_background": "light"
     },
     "output_type": "display_data"
    }
   ],
   "source": [
    "# датафрейм с кумулятивным количеством заказов и кумулятивной выручкой по дням в группе А\n",
    "cumulativeRevenueA = cumulativeData[cumulativeData['group']=='A'][['date','revenue', 'orders']]\n",
    "\n",
    "# датафрейм с кумулятивным количеством заказов и кумулятивной выручкой по дням в группе B\n",
    "cumulativeRevenueB = cumulativeData[cumulativeData['group']=='B'][['date','revenue', 'orders']]\n",
    "\n",
    "plt.figure(figsize=(12,3))\n",
    "# строим график выручки группы А\n",
    "plt.plot(cumulativeRevenueA['date'], cumulativeRevenueA['revenue'], label='A')\n",
    "\n",
    "# строим график выручки группы B\n",
    "plt.plot(cumulativeRevenueB['date'], cumulativeRevenueB['revenue'], label='B')\n",
    "\n",
    "plt.title('Кумулятивная выручка по группам')\n",
    "plt.xticks(rotation=0)\n",
    "plt.legend();"
   ]
  },
  {
   "cell_type": "markdown",
   "metadata": {
    "id": "ht6PJEvX8OsG"
   },
   "source": [
    "Выручка почти равномерно увеличивается в течение всего теста.\n",
    "\n",
    "График выручки по группе B показывает более высокие значения на протяжении всего тестового периода. Однако, в одной точке выручка резко растет. Это может сигнализировать о всплеске числа заказов, либо о появлении очень дорогих заказов в выборке."
   ]
  },
  {
   "cell_type": "markdown",
   "metadata": {},
   "source": [
    "#### <a id='toc1_3_3_2_'></a>[График кумулятивного среднего чека по группам](#toc0_)"
   ]
  },
  {
   "cell_type": "code",
   "execution_count": 21,
   "metadata": {
    "colab": {
     "base_uri": "https://localhost:8080/",
     "height": 391
    },
    "id": "tYNJGCQf7FDW",
    "outputId": "74e09f79-c5a3-4c52-ec2e-dbb1ae889c63"
   },
   "outputs": [
    {
     "data": {
      "image/png": "[encoded data removed]",
      "text/plain": [
       "<Figure size 864x288 with 1 Axes>"
      ]
     },
     "metadata": {
      "needs_background": "light"
     },
     "output_type": "display_data"
    }
   ],
   "source": [
    "plt.figure(figsize=(12,4))\n",
    "plt.plot(cumulativeRevenueA['date'], cumulativeRevenueA['revenue']/cumulativeRevenueA['orders'], label='A')\n",
    "plt.plot(cumulativeRevenueB['date'], cumulativeRevenueB['revenue']/cumulativeRevenueB['orders'], label='B')\n",
    "plt.title('График кумулятивного среднего чека по группам')\n",
    "plt.legend();"
   ]
  },
  {
   "cell_type": "markdown",
   "metadata": {
    "id": "VHzXw3sU8WKG"
   },
   "source": [
    "Средний чек становится равномерным ближе к концу теста: установился для группы A и падает для группы B. Возможно, в группу B в первой половине теста попали крупные заказы (резкий всплеск на графике). Тогда необходимо больше данных, чтобы прийти к реальному среднему чеку и установиться на его уровне."
   ]
  },
  {
   "cell_type": "markdown",
   "metadata": {},
   "source": [
    "#### <a id='toc1_3_3_3_'></a>[График относительного изменения кумулятивного среднего чека группы B к группе A](#toc0_)"
   ]
  },
  {
   "cell_type": "code",
   "execution_count": 22,
   "metadata": {
    "colab": {
     "base_uri": "https://localhost:8080/",
     "height": 391
    },
    "id": "vEXE2VTi8Z2f",
    "outputId": "f126b2fd-481c-4314-b329-b506ed058146"
   },
   "outputs": [
    {
     "data": {
      "image/png": "[encoded data removed]",
      "text/plain": [
       "<Figure size 864x288 with 1 Axes>"
      ]
     },
     "metadata": {
      "needs_background": "light"
     },
     "output_type": "display_data"
    }
   ],
   "source": [
    "# собираем данные в одном датафрейме\n",
    "mergedCumulativeRevenue = cumulativeRevenueA.merge(cumulativeRevenueB, left_on='date', right_on='date', how='left', suffixes=['A', 'B'])\n",
    "\n",
    "plt.figure(figsize=(12,4))\n",
    "# cтроим отношение средних чеков\n",
    "plt.plot(mergedCumulativeRevenue['date'], (mergedCumulativeRevenue['revenueB']/mergedCumulativeRevenue['ordersB'])/(mergedCumulativeRevenue['revenueA']/mergedCumulativeRevenue['ordersA'])-1)\n",
    "\n",
    "plt.title('График относительного изменения кумулятивного среднего чека группы B к группе A')\n",
    "# добавляем ось X\n",
    "plt.axhline(y=0, color='black', linestyle='--');"
   ]
  },
  {
   "cell_type": "markdown",
   "metadata": {
    "id": "ApbwFzQk8aNt"
   },
   "source": [
    "График различий сильно скачет. Необходимо проверить на выбросы (возможны большие заказы)"
   ]
  },
  {
   "cell_type": "markdown",
   "metadata": {},
   "source": [
    "#### <a id='toc1_3_3_4_'></a>[График кумулятивного среднего количества заказов на посетителя по группам](#toc0_)"
   ]
  },
  {
   "cell_type": "code",
   "execution_count": 23,
   "metadata": {
    "colab": {
     "base_uri": "https://localhost:8080/",
     "height": 391
    },
    "id": "pwHuJZli8mAr",
    "outputId": "48e52aa2-9383-4336-b7e8-eee7d5c13b3d"
   },
   "outputs": [
    {
     "data": {
      "image/png": "[encoded data removed]",
      "text/plain": [
       "<Figure size 864x288 with 1 Axes>"
      ]
     },
     "metadata": {
      "needs_background": "light"
     },
     "output_type": "display_data"
    }
   ],
   "source": [
    "# считаем среднее количество заказов на посетителя\n",
    "cumulativeData['conversion'] = cumulativeData['orders']/cumulativeData['visitors']\n",
    "\n",
    "# отделяем данные по группе A\n",
    "cumulativeDataA = cumulativeData[cumulativeData['group']=='A']\n",
    "\n",
    "# отделяем данные по группе B\n",
    "cumulativeDataB = cumulativeData[cumulativeData['group']=='B']\n",
    "\n",
    "# строим графики\n",
    "plt.figure(figsize=(12,4))\n",
    "plt.plot(cumulativeDataA['date'], cumulativeDataA['conversion'], label='A')\n",
    "plt.plot(cumulativeDataB['date'], cumulativeDataB['conversion'], label='B')\n",
    "\n",
    "plt.title('График кумулятивного среднего количества заказов на посетителя по группам')\n",
    "plt.legend();\n",
    "#"
   ]
  },
  {
   "cell_type": "markdown",
   "metadata": {
    "id": "c9Ho1joy8mrN"
   },
   "source": [
    "Графики среднего числа заказов на посетителя относительно равномерные, у группы В показатель немного больше."
   ]
  },
  {
   "cell_type": "markdown",
   "metadata": {},
   "source": [
    "#### <a id='toc1_3_3_5_'></a>[График относительного изменения кумулятивного среднего количества заказов на посетителя группы B к группе A](#toc0_)"
   ]
  },
  {
   "cell_type": "code",
   "execution_count": 24,
   "metadata": {
    "colab": {
     "base_uri": "https://localhost:8080/",
     "height": 391
    },
    "id": "mOlxOVcu8tsH",
    "outputId": "c363404a-458c-42b5-ccf6-363d0c58601c"
   },
   "outputs": [
    {
     "data": {
      "image/png": "[encoded data removed]",
      "text/plain": [
       "<Figure size 864x288 with 1 Axes>"
      ]
     },
     "metadata": {
      "needs_background": "light"
     },
     "output_type": "display_data"
    }
   ],
   "source": [
    "mergedCumulativeConversions = cumulativeDataA[['date','conversion']].merge(cumulativeDataB[['date','conversion']], left_on='date', right_on='date', how='left', suffixes=['A', 'B'])\n",
    "\n",
    "plt.figure(figsize=(12,4))\n",
    "plt.plot(mergedCumulativeConversions['date'], mergedCumulativeConversions['conversionB']/mergedCumulativeConversions['conversionA']-1, label=\"Относительный прирост кумулятивного среднего количества заказов на посетителя группы B относительно группы A\")\n",
    "plt.legend()\n",
    "\n",
    "plt.title('График относительного изменения кумулятивного среднего количества заказов на посетителя группы B к группе A')\n",
    "plt.axhline(y=0, color='black', linestyle='--')\n",
    "plt.axhline(y=0.1, color='grey', linestyle='--');\n"
   ]
  },
  {
   "cell_type": "markdown",
   "metadata": {
    "id": "qlGbOB2d8uFm"
   },
   "source": [
    "Показатели группы B значительно выше. Среднее количество заказов на посетителя для группы B немного уменьшалось, но теперь постепенно растёт"
   ]
  },
  {
   "cell_type": "markdown",
   "metadata": {},
   "source": [
    "#### <a id='toc1_3_3_6_'></a>[Гочечный график количества заказов по пользователям](#toc0_)"
   ]
  },
  {
   "cell_type": "code",
   "execution_count": 25,
   "metadata": {
    "colab": {
     "base_uri": "https://localhost:8080/"
    },
    "id": "cyKe6GWQvq-r",
    "outputId": "b37e8255-1d98-4266-c148-80c858742480"
   },
   "outputs": [
    {
     "name": "stdout",
     "output_type": "stream",
     "text": [
      "         userId  orders\n",
      "908  3967698036  3     \n",
      "55   249864742   3     \n",
      "478  2108163459  3     \n",
      "687  2988190573  3     \n",
      "890  3908431265  3     \n"
     ]
    }
   ],
   "source": [
    "ordersByUsers_clear = (\n",
    "    df_orders_clear.groupby('visitorId', as_index=False)\n",
    "    .agg({'transactionId': 'nunique'})\n",
    ")\n",
    "\n",
    "ordersByUsers_clear.columns = ['userId', 'orders']\n",
    "\n",
    "print(ordersByUsers_clear.sort_values(by='orders', ascending=False).head())"
   ]
  },
  {
   "cell_type": "code",
   "execution_count": 26,
   "metadata": {
    "colab": {
     "base_uri": "https://localhost:8080/",
     "height": 410
    },
    "id": "m0KSJ5PtvSQL",
    "outputId": "1711b9ce-edfe-43dd-e969-dca0b053ceba"
   },
   "outputs": [
    {
     "data": {
      "image/png": "[encoded data removed]",
      "text/plain": [
       "<Figure size 864x288 with 1 Axes>"
      ]
     },
     "metadata": {
      "needs_background": "light"
     },
     "output_type": "display_data"
    }
   ],
   "source": [
    "x_values = pd.Series(range(0,len(ordersByUsers_clear)))\n",
    "\n",
    "plt.figure(figsize=(12,4))\n",
    "plt.scatter(x_values, ordersByUsers_clear['orders'])\n",
    "\n",
    "plt.title('График количества заказов по пользователям')\n",
    "plt.ylabel('Количество заказов')\n",
    "plt.xlabel('Пользователи')\n",
    "plt.show();"
   ]
  },
  {
   "cell_type": "markdown",
   "metadata": {
    "id": "t-aTlyVO83en"
   },
   "source": [
    "Большинство покупателей заказывали только один раз. Небольшая доля пользователей с 2-мя заказами."
   ]
  },
  {
   "cell_type": "markdown",
   "metadata": {},
   "source": [
    "#### <a id='toc1_3_3_7_'></a>[95-й и 99-й перцентили количества заказов на пользователя](#toc0_)\n",
    "Выберем границу для определения аномальных пользователей."
   ]
  },
  {
   "cell_type": "code",
   "execution_count": 27,
   "metadata": {
    "colab": {
     "base_uri": "https://localhost:8080/"
    },
    "id": "seRD8ZIq8-40",
    "outputId": "3d4cb55d-8376-462a-a778-c36a0bf0a115"
   },
   "outputs": [
    {
     "name": "stdout",
     "output_type": "stream",
     "text": [
      "[1. 2.]\n"
     ]
    }
   ],
   "source": [
    "print(np.percentile(ordersByUsers_clear['orders'], [95, 99]))"
   ]
  },
  {
   "cell_type": "markdown",
   "metadata": {
    "id": "1CscRkFd8_il"
   },
   "source": [
    "95% покупателей делали по одному заказу за исследуемый месяц. 99% - не более 2-х заказов.  Возьмем за границу 2 заказа на покупателя"
   ]
  },
  {
   "cell_type": "markdown",
   "metadata": {},
   "source": [
    "#### <a id='toc1_3_3_8_'></a>[Точечный график стоимостей заказов](#toc0_)"
   ]
  },
  {
   "cell_type": "code",
   "execution_count": 28,
   "metadata": {
    "colab": {
     "base_uri": "https://localhost:8080/",
     "height": 410
    },
    "id": "TUq0_Emh9ERn",
    "outputId": "2e980caa-28a1-4b88-f592-d69f04328982"
   },
   "outputs": [
    {
     "data": {
      "image/png": "[encoded data removed]",
      "text/plain": [
       "<Figure size 864x288 with 1 Axes>"
      ]
     },
     "metadata": {
      "needs_background": "light"
     },
     "output_type": "display_data"
    }
   ],
   "source": [
    "x_values = pd.Series(range(0,len(df_orders_clear['revenue'])))\n",
    "\n",
    "plt.figure(figsize=(12,4))\n",
    "plt.scatter(x_values, df_orders_clear['revenue'])\n",
    "plt.xticks(np.arange(min(x_values), max(x_values), 100))\n",
    "\n",
    "plt.title('График стоимостей заказов')\n",
    "plt.ylabel('Стоимость заказа')\n",
    "plt.xlabel('Пользователи')\n",
    "plt.show();"
   ]
  },
  {
   "cell_type": "code",
   "execution_count": 29,
   "metadata": {
    "colab": {
     "base_uri": "https://localhost:8080/",
     "height": 431
    },
    "id": "cEL6mgOaz0AF",
    "outputId": "6249c3e5-d06c-410f-baf2-cfbf09c57706"
   },
   "outputs": [
    {
     "data": {
      "image/png": "[encoded data removed]",
      "text/plain": [
       "<Figure size 864x288 with 1 Axes>"
      ]
     },
     "metadata": {
      "needs_background": "light"
     },
     "output_type": "display_data"
    }
   ],
   "source": [
    "# График стоимости заказов по пользователям\n",
    "# для заказов дешевле 200 000руб.\n",
    "x_values = pd.Series(range(0, len(df_orders_clear[df_orders_clear['revenue'] < 200000])))\n",
    "y_values = df_orders_clear[df_orders_clear['revenue'] < 200000]['revenue']\n",
    "\n",
    "plt.figure(figsize=(12,4))\n",
    "plt.scatter(x_values, y_values)\n",
    "\n",
    "plt.xticks(np.arange(min(x_values), max(x_values), 100))\n",
    "plt.title('\\n График стоимостей заказов дешевле 200 000руб.')\n",
    "plt.ylabel('Стоимость заказа')\n",
    "plt.xlabel('Пользователи')\n",
    "plt.show()\n"
   ]
  },
  {
   "cell_type": "markdown",
   "metadata": {
    "id": "fht5hD8t9Enm"
   },
   "source": [
    "В расчете выручки есть высокие аномальные значения, которые создавали скачок метрик."
   ]
  },
  {
   "cell_type": "markdown",
   "metadata": {},
   "source": [
    "#### <a id='toc1_3_3_9_'></a>[95-й и 99-й перцентили стоимости заказов](#toc0_)\n",
    "Выберем границу для определения аномальных заказов."
   ]
  },
  {
   "cell_type": "code",
   "execution_count": 30,
   "metadata": {
    "colab": {
     "base_uri": "https://localhost:8080/"
    },
    "id": "9uPorWrd9KIB",
    "outputId": "cb091ad8-f620-44f8-a766-0ceb0638f237"
   },
   "outputs": [
    {
     "name": "stdout",
     "output_type": "stream",
     "text": [
      "[26785. 37400. 53904.]\n"
     ]
    }
   ],
   "source": [
    "print(np.percentile(df_orders_clear['revenue'], [95, 97.5, 99]))"
   ]
  },
  {
   "cell_type": "markdown",
   "metadata": {
    "id": "CS__wrK49Kcm"
   },
   "source": [
    " Установим границу отсечения на уровне 37 400руб."
   ]
  },
  {
   "cell_type": "markdown",
   "metadata": {},
   "source": [
    "#### <a id='toc1_3_3_10_'></a>[Расчет статистической значимости различий в среднем количестве заказов на посетителя между группами по «сырым» данным](#toc0_)\n"
   ]
  },
  {
   "cell_type": "code",
   "execution_count": 31,
   "metadata": {
    "colab": {
     "base_uri": "https://localhost:8080/",
     "height": 457
    },
    "id": "qB1QQUk9qsV6",
    "outputId": "4796c8bc-c512-4a5d-f46b-889b44c7df3f"
   },
   "outputs": [
    {
     "data": {
      "text/html": [
       "<div>\n",
       "<style scoped>\n",
       "    .dataframe tbody tr th:only-of-type {\n",
       "        vertical-align: middle;\n",
       "    }\n",
       "\n",
       "    .dataframe tbody tr th {\n",
       "        vertical-align: top;\n",
       "    }\n",
       "\n",
       "    .dataframe thead th {\n",
       "        text-align: right;\n",
       "    }\n",
       "</style>\n",
       "<table border=\"1\" class=\"dataframe\">\n",
       "  <thead>\n",
       "    <tr style=\"text-align: right;\">\n",
       "      <th></th>\n",
       "      <th>0</th>\n",
       "      <th>1</th>\n",
       "      <th>2</th>\n",
       "      <th>3</th>\n",
       "      <th>4</th>\n",
       "    </tr>\n",
       "  </thead>\n",
       "  <tbody>\n",
       "    <tr>\n",
       "      <th>date</th>\n",
       "      <td>2019-08-01 00:00:00</td>\n",
       "      <td>2019-08-02 00:00:00</td>\n",
       "      <td>2019-08-03 00:00:00</td>\n",
       "      <td>2019-08-04 00:00:00</td>\n",
       "      <td>2019-08-05 00:00:00</td>\n",
       "    </tr>\n",
       "    <tr>\n",
       "      <th>ordersPerDateA</th>\n",
       "      <td>24</td>\n",
       "      <td>20</td>\n",
       "      <td>24</td>\n",
       "      <td>16</td>\n",
       "      <td>25</td>\n",
       "    </tr>\n",
       "    <tr>\n",
       "      <th>revenuePerDateA</th>\n",
       "      <td>148579</td>\n",
       "      <td>93822</td>\n",
       "      <td>112473</td>\n",
       "      <td>70825</td>\n",
       "      <td>124218</td>\n",
       "    </tr>\n",
       "    <tr>\n",
       "      <th>ordersPerDateB</th>\n",
       "      <td>21</td>\n",
       "      <td>24</td>\n",
       "      <td>16</td>\n",
       "      <td>17</td>\n",
       "      <td>23</td>\n",
       "    </tr>\n",
       "    <tr>\n",
       "      <th>revenuePerDateB</th>\n",
       "      <td>101217</td>\n",
       "      <td>165531</td>\n",
       "      <td>114248</td>\n",
       "      <td>108571</td>\n",
       "      <td>92428</td>\n",
       "    </tr>\n",
       "    <tr>\n",
       "      <th>ordersCummulativeA</th>\n",
       "      <td>24</td>\n",
       "      <td>44</td>\n",
       "      <td>68</td>\n",
       "      <td>84</td>\n",
       "      <td>109</td>\n",
       "    </tr>\n",
       "    <tr>\n",
       "      <th>revenueCummulativeA</th>\n",
       "      <td>148579</td>\n",
       "      <td>242401</td>\n",
       "      <td>354874</td>\n",
       "      <td>425699</td>\n",
       "      <td>549917</td>\n",
       "    </tr>\n",
       "    <tr>\n",
       "      <th>ordersCummulativeB</th>\n",
       "      <td>21</td>\n",
       "      <td>45</td>\n",
       "      <td>61</td>\n",
       "      <td>78</td>\n",
       "      <td>101</td>\n",
       "    </tr>\n",
       "    <tr>\n",
       "      <th>revenueCummulativeB</th>\n",
       "      <td>101217</td>\n",
       "      <td>266748</td>\n",
       "      <td>380996</td>\n",
       "      <td>489567</td>\n",
       "      <td>581995</td>\n",
       "    </tr>\n",
       "    <tr>\n",
       "      <th>visitorsPerDateA</th>\n",
       "      <td>719</td>\n",
       "      <td>619</td>\n",
       "      <td>507</td>\n",
       "      <td>717</td>\n",
       "      <td>756</td>\n",
       "    </tr>\n",
       "    <tr>\n",
       "      <th>visitorsPerDateB</th>\n",
       "      <td>713</td>\n",
       "      <td>581</td>\n",
       "      <td>509</td>\n",
       "      <td>770</td>\n",
       "      <td>707</td>\n",
       "    </tr>\n",
       "    <tr>\n",
       "      <th>visitorsCummulativeA</th>\n",
       "      <td>719</td>\n",
       "      <td>1338</td>\n",
       "      <td>1845</td>\n",
       "      <td>2562</td>\n",
       "      <td>3318</td>\n",
       "    </tr>\n",
       "    <tr>\n",
       "      <th>visitorsCummulativeB</th>\n",
       "      <td>713</td>\n",
       "      <td>1294</td>\n",
       "      <td>1803</td>\n",
       "      <td>2573</td>\n",
       "      <td>3280</td>\n",
       "    </tr>\n",
       "  </tbody>\n",
       "</table>\n",
       "</div>"
      ],
      "text/plain": [
       "                                        0                    1  \\\n",
       "date                  2019-08-01 00:00:00  2019-08-02 00:00:00   \n",
       "ordersPerDateA        24                   20                    \n",
       "revenuePerDateA       148579               93822                 \n",
       "ordersPerDateB        21                   24                    \n",
       "revenuePerDateB       101217               165531                \n",
       "ordersCummulativeA    24                   44                    \n",
       "revenueCummulativeA   148579               242401                \n",
       "ordersCummulativeB    21                   45                    \n",
       "revenueCummulativeB   101217               266748                \n",
       "visitorsPerDateA      719                  619                   \n",
       "visitorsPerDateB      713                  581                   \n",
       "visitorsCummulativeA  719                  1338                  \n",
       "visitorsCummulativeB  713                  1294                  \n",
       "\n",
       "                                        2                    3  \\\n",
       "date                  2019-08-03 00:00:00  2019-08-04 00:00:00   \n",
       "ordersPerDateA        24                   16                    \n",
       "revenuePerDateA       112473               70825                 \n",
       "ordersPerDateB        16                   17                    \n",
       "revenuePerDateB       114248               108571                \n",
       "ordersCummulativeA    68                   84                    \n",
       "revenueCummulativeA   354874               425699                \n",
       "ordersCummulativeB    61                   78                    \n",
       "revenueCummulativeB   380996               489567                \n",
       "visitorsPerDateA      507                  717                   \n",
       "visitorsPerDateB      509                  770                   \n",
       "visitorsCummulativeA  1845                 2562                  \n",
       "visitorsCummulativeB  1803                 2573                  \n",
       "\n",
       "                                        4  \n",
       "date                  2019-08-05 00:00:00  \n",
       "ordersPerDateA        25                   \n",
       "revenuePerDateA       124218               \n",
       "ordersPerDateB        23                   \n",
       "revenuePerDateB       92428                \n",
       "ordersCummulativeA    109                  \n",
       "revenueCummulativeA   549917               \n",
       "ordersCummulativeB    101                  \n",
       "revenueCummulativeB   581995               \n",
       "visitorsPerDateA      756                  \n",
       "visitorsPerDateB      707                  \n",
       "visitorsCummulativeA  3318                 \n",
       "visitorsCummulativeB  3280                 "
      ]
     },
     "metadata": {},
     "output_type": "display_data"
    }
   ],
   "source": [
    "# Подготовим и объединим данные\n",
    "visitorsADaily = df_visitors[df_visitors['group'] == 'A'][['date', 'visitors']]\n",
    "visitorsADaily.columns = ['date', 'visitorsPerDateA']\n",
    "\n",
    "visitorsACummulative = visitorsADaily.apply(\n",
    "    lambda x: visitorsADaily[visitorsADaily['date'] <= x['date']].agg(\n",
    "        {'date': 'max', 'visitorsPerDateA': 'sum'}\n",
    "    ),\n",
    "    axis=1,\n",
    ")\n",
    "visitorsACummulative.columns = ['date', 'visitorsCummulativeA']\n",
    "\n",
    "visitorsBDaily = df_visitors[df_visitors['group'] == 'B'][['date', 'visitors']]\n",
    "visitorsBDaily.columns = ['date', 'visitorsPerDateB']\n",
    "\n",
    "visitorsBCummulative = visitorsBDaily.apply(\n",
    "    lambda x: visitorsBDaily[visitorsBDaily['date'] <= x['date']].agg(\n",
    "        {'date': 'max', 'visitorsPerDateB': 'sum'}\n",
    "    ),\n",
    "    axis=1,\n",
    ")\n",
    "visitorsBCummulative.columns = ['date', 'visitorsCummulativeB']\n",
    "\n",
    "ordersADaily = (\n",
    "    df_orders[df_orders['group'] == 'A'][['date', 'transactionId', 'visitorId', 'revenue']]\n",
    "    .groupby('date', as_index=False)\n",
    "    .agg({'transactionId': pd.Series.nunique, 'revenue': 'sum'})\n",
    ")\n",
    "ordersADaily.columns = ['date', 'ordersPerDateA', 'revenuePerDateA']\n",
    "\n",
    "ordersACummulative = ordersADaily.apply(\n",
    "    lambda x: ordersADaily[ordersADaily['date'] <= x['date']].agg(\n",
    "        {'date': 'max', 'ordersPerDateA': 'sum', 'revenuePerDateA': 'sum'}\n",
    "    ),\n",
    "    axis=1,\n",
    ").sort_values(by=['date'])\n",
    "ordersACummulative.columns = [\n",
    "    'date',\n",
    "    'ordersCummulativeA',\n",
    "    'revenueCummulativeA',\n",
    "]\n",
    "\n",
    "ordersBDaily = (\n",
    "    df_orders[df_orders['group'] == 'B'][['date', 'transactionId', 'visitorId', 'revenue']]\n",
    "    .groupby('date', as_index=False)\n",
    "    .agg({'transactionId': pd.Series.nunique, 'revenue': 'sum'})\n",
    ")\n",
    "ordersBDaily.columns = ['date', 'ordersPerDateB', 'revenuePerDateB']\n",
    "\n",
    "ordersBCummulative = ordersBDaily.apply(\n",
    "    lambda x: ordersBDaily[ordersBDaily['date'] <= x['date']].agg(\n",
    "        {'date': 'max', 'ordersPerDateB': 'sum', 'revenuePerDateB': 'sum'}\n",
    "    ),\n",
    "    axis=1,\n",
    ").sort_values(by=['date'])\n",
    "ordersBCummulative.columns = [\n",
    "    'date',\n",
    "    'ordersCummulativeB',\n",
    "    'revenueCummulativeB',\n",
    "]\n",
    "\n",
    "data = (\n",
    "    ordersADaily.merge(\n",
    "        ordersBDaily, left_on='date', right_on='date', how='left'\n",
    "    )\n",
    "    .merge(ordersACummulative, left_on='date', right_on='date', how='left')\n",
    "    .merge(ordersBCummulative, left_on='date', right_on='date', how='left')\n",
    "    .merge(visitorsADaily, left_on='date', right_on='date', how='left')\n",
    "    .merge(visitorsBDaily, left_on='date', right_on='date', how='left')\n",
    "    .merge(visitorsACummulative, left_on='date', right_on='date', how='left')\n",
    "    .merge(visitorsBCummulative, left_on='date', right_on='date', how='left')\n",
    ")\n",
    "\n",
    "display(data.head(5).T)"
   ]
  },
  {
   "cell_type": "markdown",
   "metadata": {
    "id": "VyY6Gc3Rs8gc"
   },
   "source": [
    "Проведем тест по критерию Манна-Уитни. Посчитаем статистическую значимость различий в среднем количестве заказов на посетителя между группами по «сырым» данным.\n",
    "\n",
    "Выдвинем гипотезы:\n",
    "* **H``0``** —  Среднее количество заказов на одного пользователя не отличается статистически значимо между группами по \"сырым\" данным.\n",
    "\n",
    "* **H``1``** — Среднее количество заказов на одного пользователя статистически значимо отличается между группами по \"сырым\" данным.\n",
    "\n",
    "Уровень значимости альфа установим α=0.05"
   ]
  },
  {
   "cell_type": "code",
   "execution_count": 32,
   "metadata": {
    "colab": {
     "base_uri": "https://localhost:8080/"
    },
    "id": "Y8kAfoVF2cPd",
    "outputId": "f14b9393-cf02-43e3-d334-bc5c9e3efe91"
   },
   "outputs": [],
   "source": [
    "# Объявим переменные sampleA и sampleB, в которых пользователям из разных групп будет соответствовать количество заказов.\n",
    "# Тем, кто ничего не заказал, будут соответствовать нули.\n",
    "\n",
    "ordersByUsersA = (\n",
    "    df_orders[df_orders['group'] == 'A']\n",
    "    .groupby('visitorId', as_index=False)\n",
    "    .agg({'transactionId': pd.Series.nunique})\n",
    ")\n",
    "ordersByUsersA.columns = ['userId', 'orders']\n",
    "\n",
    "ordersByUsersB = (\n",
    "    df_orders[df_orders['group'] == 'B']\n",
    "    .groupby('visitorId', as_index=False)\n",
    "    .agg({'transactionId': pd.Series.nunique})\n",
    ")\n",
    "ordersByUsersB.columns = ['userId', 'orders']\n",
    "\n",
    "sampleA = pd.concat(\n",
    "    [\n",
    "        ordersByUsersA['orders'],\n",
    "        pd.Series(\n",
    "            0,\n",
    "            index=np.arange(\n",
    "                data['visitorsPerDateA'].sum() - len(ordersByUsersA['orders'])\n",
    "            ),\n",
    "            name='orders',\n",
    "        ),\n",
    "    ],\n",
    "    axis=0,\n",
    ")\n",
    "\n",
    "sampleB = pd.concat(\n",
    "    [\n",
    "        ordersByUsersB['orders'],\n",
    "        pd.Series(\n",
    "            0,\n",
    "            index=np.arange(\n",
    "                data['visitorsPerDateB'].sum() - len(ordersByUsersB['orders'])\n",
    "            ),\n",
    "            name='orders',\n",
    "        ),\n",
    "    ],\n",
    "    axis=0,\n",
    ")"
   ]
  },
  {
   "cell_type": "code",
   "execution_count": 33,
   "metadata": {},
   "outputs": [
    {
     "name": "stdout",
     "output_type": "stream",
     "text": [
      "p-value теста Манна-Уитни: 0.017\n",
      "Уровень значимости: 0.05\n",
      "Отвергаем нулевую гипотезу: различие статистически значимо\n",
      "Относительное изменение среднего значения выборки B по отношению к выборке A: 13.8%\n"
     ]
    }
   ],
   "source": [
    "# Проведем тест\n",
    "\n",
    "p_value = stats.mannwhitneyu(sampleA, sampleB)[1]\n",
    "alfa = 0.05\n",
    "print(f\"p-value теста Манна-Уитни: {p_value:.3f}\")\n",
    "print(f\"Уровень значимости: {alfa}\")\n",
    "\n",
    "if p_value < alfa:\n",
    "    print(\"Отвергаем нулевую гипотезу: различие статистически значимо\")\n",
    "else:\n",
    "    print(\"Не получилось отвергнуть нулевую гипотезу, нет оснований считать различия статистически значимыми\")\n",
    "\n",
    "relative_difference = sampleB.mean() / sampleA.mean() - 1\n",
    "print(f\"Относительное изменение среднего значения выборки B по отношению к выборке A: {relative_difference * 100:.1f}%\")"
   ]
  },
  {
   "cell_type": "markdown",
   "metadata": {
    "id": "5Vfiklyq9QvE"
   },
   "source": [
    "Cуществует статистически значимое различие в среднем количестве заказов на посетителя между группами по \"сырым\" данным — значение p-value теста Манна-Уитни составило 0.017, что меньше обычного уровня значимости 0.05. Это позволяет нам отвергнуть нулевую гипотезу о том, что различия в среднем количестве заказов на посетителя между группами статистически не значимы.\n",
    "\n",
    "Кроме того, cреднее количество заказов на посетителя в группе B на 13.8% выше, чем в группе A."
   ]
  },
  {
   "cell_type": "markdown",
   "metadata": {},
   "source": [
    "#### <a id='toc1_3_3_11_'></a>[Расчет статистической значимости различий в среднем чеке заказа между группами по «сырым» данным](#toc0_)"
   ]
  },
  {
   "cell_type": "markdown",
   "metadata": {
    "id": "jvPwnH8gGJfX"
   },
   "source": [
    "Проведем тест по критерию Манна-Уитни. Посчитаем статистическую значимость различий в среднем чеке заказа между группами по «сырым» данным.\n",
    "\n",
    "Выдвинем гипотезы:\n",
    "\n",
    "* **H``0``** — Средний чек не отличается статистически значимо между группами по \"сырым\" данным.\n",
    "\n",
    "* **H``1``** — Средний чек статистически значимо отличается между группами по \"сырым\" данным.\n",
    "\n",
    "Уровень значимости альфа установим α=0.05"
   ]
  },
  {
   "cell_type": "code",
   "execution_count": 34,
   "metadata": {
    "colab": {
     "base_uri": "https://localhost:8080/"
    },
    "id": "T6rbo92k9XpO",
    "outputId": "5933defb-5a60-4c90-d47b-245c2955cb58"
   },
   "outputs": [
    {
     "name": "stdout",
     "output_type": "stream",
     "text": [
      "p-value теста Манна-Уитни: 0.829\n",
      "Уровень значимости: 0.05\n",
      "Не получилось отвергнуть нулевую гипотезу, нет оснований считать различия статистически значимыми\n",
      "Относительное изменение среднего значения выборки B по отношению к выборке A: 28.7%\n"
     ]
    }
   ],
   "source": [
    "# Проведем тест\n",
    "\n",
    "p_value = stats.mannwhitneyu(df_orders_clear[df_orders_clear['group']=='A']['revenue'], df_orders_clear[df_orders_clear['group']=='B']['revenue'])[1]\n",
    "alfa = 0.05\n",
    "print(f\"p-value теста Манна-Уитни: {p_value:.3f}\")\n",
    "print(f\"Уровень значимости: {alfa}\")\n",
    "\n",
    "if p_value < alfa:\n",
    "    print(\"Отвергаем нулевую гипотезу: различие статистически значимо\")\n",
    "else:\n",
    "    print(\"Не получилось отвергнуть нулевую гипотезу, нет оснований считать различия статистически значимыми\")\n",
    "\n",
    "relative_difference = df_orders_clear[df_orders_clear['group']=='B']['revenue'].mean()/df_orders_clear[df_orders_clear['group']=='A']['revenue'].mean()-1\n",
    "print(f\"Относительное изменение среднего значения выборки B по отношению к выборке A: {relative_difference * 100:.1f}%\")\n"
   ]
  },
  {
   "cell_type": "markdown",
   "metadata": {
    "id": "37j4mwAL9YDV"
   },
   "source": [
    "Несмотря на заметное относительное различие, статистически значимых доказательств этого различия у нас нет.  \n",
    "\n",
    "По \"сырым\" данным нет оснований утверждать, что различия в средних значениях выборок A и B статистически значимы."
   ]
  },
  {
   "cell_type": "markdown",
   "metadata": {},
   "source": [
    "#### <a id='toc1_3_3_12_'></a>[Расчет статистической значимости различий в среднем количестве заказов на посетителя между группами по «очищенным» данным](#toc0_)"
   ]
  },
  {
   "cell_type": "markdown",
   "metadata": {
    "id": "Q4c6AazUHUAA"
   },
   "source": [
    "Примем за аномальных пользователей тех, кто совершил больше 2-х заказов или сделал заказ дороже 37 400 руб.."
   ]
  },
  {
   "cell_type": "code",
   "execution_count": 35,
   "metadata": {
    "colab": {
     "base_uri": "https://localhost:8080/"
    },
    "id": "mzz9GtPV9c9b",
    "outputId": "1ef54425-27d8-40be-e2a2-516e09583039"
   },
   "outputs": [
    {
     "name": "stdout",
     "output_type": "stream",
     "text": [
      "1099    148427295\n",
      "18      199603092\n",
      "23      237748145\n",
      "37      249864742\n",
      "684     358944393\n",
      "dtype: int64\n",
      "Аномальных пользователей: 49\n"
     ]
    }
   ],
   "source": [
    "usersWithManyOrders = pd.concat(\n",
    "    [\n",
    "        ordersByUsersA[ordersByUsersA['orders'] > 2]['userId'],\n",
    "        ordersByUsersB[ordersByUsersB['orders'] > 2]['userId'],\n",
    "    ],\n",
    "    axis=0,\n",
    ")\n",
    "usersWithExpensiveOrders = df_orders[df_orders['revenue'] > 37400]['visitorId']\n",
    "abnormalUsers = (\n",
    "    pd.concat([usersWithManyOrders, usersWithExpensiveOrders], axis=0)\n",
    "    .drop_duplicates()\n",
    "    .sort_values()\n",
    ")\n",
    "print(abnormalUsers.head())\n",
    "print('Аномальных пользователей:', abnormalUsers.shape[0])"
   ]
  },
  {
   "cell_type": "code",
   "execution_count": 36,
   "metadata": {
    "id": "QgLjKfUOG4o_"
   },
   "outputs": [],
   "source": [
    "# Подготовим выборки количества заказов по пользователям по группам теста\n",
    "\n",
    "sampleAFiltered = pd.concat(\n",
    "    [\n",
    "        ordersByUsersA[\n",
    "            np.logical_not(ordersByUsersA['userId'].isin(abnormalUsers))\n",
    "        ]['orders'],\n",
    "        pd.Series(\n",
    "            0,\n",
    "            index=np.arange(\n",
    "                data['visitorsPerDateA'].sum() - len(ordersByUsersA['orders'])\n",
    "            ),\n",
    "            name='orders',\n",
    "        ),\n",
    "    ],\n",
    "    axis=0,\n",
    ")\n",
    "\n",
    "sampleBFiltered = pd.concat(\n",
    "    [\n",
    "        ordersByUsersB[\n",
    "            np.logical_not(ordersByUsersB['userId'].isin(abnormalUsers))\n",
    "        ]['orders'],\n",
    "        pd.Series(\n",
    "            0,\n",
    "            index=np.arange(\n",
    "                data['visitorsPerDateB'].sum() - len(ordersByUsersB['orders'])\n",
    "            ),\n",
    "            name='orders',\n",
    "        ),\n",
    "    ],\n",
    "    axis=0,\n",
    ")"
   ]
  },
  {
   "cell_type": "markdown",
   "metadata": {
    "id": "0l9xz_hhH34X"
   },
   "source": [
    "Проведем тест по критерию Манна-Уитни. Посчитаем статистическую значимость различий в среднем количестве заказов на посетителя между группами по очищенным данным.\n",
    "\n",
    "Выдвинем гипотезы:\n",
    "\n",
    "* **H``0``** — Среднее количество заказов на одного пользователя не отличается статистически значимо между группами по очищенным данным.\n",
    "\n",
    "* **H``1``** — Среднее количество заказов на одного пользователя статистически значимо отличается между группами по очищенным данным.\n",
    "\n",
    "Уровень значимости альфа установим α=0.05"
   ]
  },
  {
   "cell_type": "code",
   "execution_count": 37,
   "metadata": {
    "colab": {
     "base_uri": "https://localhost:8080/"
    },
    "id": "EqWrd7UVG4b5",
    "outputId": "cc7d4cc3-bf11-43f2-b7d8-105076cd2ec9"
   },
   "outputs": [
    {
     "name": "stdout",
     "output_type": "stream",
     "text": [
      "p-value теста Манна-Уитни: 0.009\n",
      "Уровень значимости: 0.05\n",
      "Отвергаем нулевую гипотезу: различие статистически значимо\n",
      "Относительное изменение среднего значения выборки B по отношению к выборке A: 18.3%\n"
     ]
    }
   ],
   "source": [
    "# Проведем тест\n",
    "\n",
    "p_value = stats.mannwhitneyu(sampleAFiltered, sampleBFiltered)[1]\n",
    "alfa = 0.05\n",
    "print(f\"p-value теста Манна-Уитни: {p_value:.3f}\")\n",
    "print(f\"Уровень значимости: {alfa}\")\n",
    "\n",
    "if p_value < alfa:\n",
    "    print(\"Отвергаем нулевую гипотезу: различие статистически значимо\")\n",
    "else:\n",
    "    print(\"Не получилось отвергнуть нулевую гипотезу, нет оснований считать различия статистически значимыми\")\n",
    "\n",
    "relative_difference = sampleBFiltered.mean()/sampleAFiltered.mean()-1\n",
    "print(f\"Относительное изменение среднего значения выборки B по отношению к выборке A: {relative_difference * 100:.1f}%\")\n"
   ]
  },
  {
   "cell_type": "markdown",
   "metadata": {
    "id": "bR_1VXnt9dd9"
   },
   "source": [
    "Cуществует статистически значимое различие в среднем количестве заказов на посетителя между группами по очищенным данным — значение p-value теста Манна-Уитни составило 0.009, что меньше принятого уровня значимости 0.05. Это позволяет нам отвергнуть нулевую гипотезу о том, что различия в среднем количестве заказов на посетителя между группами статистически не значимы.\n",
    "\n",
    "Среднее количество заказов на посетителя в группе B на 16.4% выше, чем в группе A."
   ]
  },
  {
   "cell_type": "markdown",
   "metadata": {},
   "source": [
    "#### <a id='toc1_3_3_13_'></a>[Расчет статистической значимости различий в среднем чеке заказа между группами по «очищенным» данным](#toc0_)"
   ]
  },
  {
   "cell_type": "markdown",
   "metadata": {
    "id": "62vaG3mWJogh"
   },
   "source": [
    "Проведем тест по критерию Манна-Уитни. Посчитаем статистическую значимость различий в среднем чеке заказа между группами по очищенным данным.\n",
    "\n",
    "Выдвинем гипотезы:\n",
    "\n",
    "* **H``0``** — Средний чек не отличается статистически значимо между группами по очищенным данным.\n",
    "\n",
    "* **H``1``** — Средний чек статистически значимо отличается между группами по очищенным данным.\n",
    "\n",
    "Уровень значимости альфа установим α=0.05"
   ]
  },
  {
   "cell_type": "code",
   "execution_count": 38,
   "metadata": {
    "colab": {
     "base_uri": "https://localhost:8080/"
    },
    "id": "ZPm_7inU9lGh",
    "outputId": "c846aa09-00cb-489c-b519-4ee484ced72e"
   },
   "outputs": [
    {
     "name": "stdout",
     "output_type": "stream",
     "text": [
      "p-value теста Манна-Уитни: 0.942\n",
      "Уровень значимости: 0.05\n",
      "Не получилось отвергнуть нулевую гипотезу, нет оснований считать различия статистически значимыми\n",
      "Относительное изменение среднего значения выборки B по отношению к выборке A: 2.2%\n"
     ]
    }
   ],
   "source": [
    "# Проведем тест\n",
    "\n",
    "p_value = stats.mannwhitneyu(\n",
    "            df_orders_clear[\n",
    "                np.logical_and(\n",
    "                    df_orders_clear['group'] == 'A',\n",
    "                    np.logical_not(df_orders_clear['visitorId'].isin(abnormalUsers)),\n",
    "                )\n",
    "            ]['revenue'],\n",
    "            df_orders_clear[\n",
    "                np.logical_and(\n",
    "                    df_orders_clear['group'] == 'B',\n",
    "                    np.logical_not(df_orders_clear['visitorId'].isin(abnormalUsers)),\n",
    "                )\n",
    "            ]['revenue'],\n",
    "        )[1]\n",
    "\n",
    "alfa = 0.05\n",
    "print(f\"p-value теста Манна-Уитни: {p_value:.3f}\")\n",
    "print(f\"Уровень значимости: {alfa}\")\n",
    "\n",
    "if p_value < alfa:\n",
    "    print(\"Отвергаем нулевую гипотезу: различие статистически значимо\")\n",
    "else:\n",
    "    print(\"Не получилось отвергнуть нулевую гипотезу, нет оснований считать различия статистически значимыми\")\n",
    "\n",
    "relative_difference = df_orders_clear[\n",
    "            np.logical_and(\n",
    "                df_orders_clear['group'] == 'B',\n",
    "                np.logical_not(df_orders_clear['visitorId'].isin(abnormalUsers)),\n",
    "            )\n",
    "        ]['revenue'].mean() / df_orders_clear[\n",
    "            np.logical_and(\n",
    "                df_orders_clear['group'] == 'A',\n",
    "                np.logical_not(df_orders_clear['visitorId'].isin(abnormalUsers)),\n",
    "            )\n",
    "        ]['revenue'].mean() - 1\n",
    "\n",
    "print(f\"Относительное изменение среднего значения выборки B по отношению к выборке A: {relative_difference * 100:.1f}%\")"
   ]
  },
  {
   "cell_type": "markdown",
   "metadata": {
    "id": "vO1zjwPW9ld6"
   },
   "source": [
    "На основе проведенного теста Манна-Уитни, p-value составляет 0.942, что больше принятого уровня значимости 0.05. Мы не можем отвергнуть нулевую гипотезу о том, что средний чек не отличается статистически значимо между группами по очищенным данным.\n",
    "\n",
    "Наблюдаемое различие в 2.2% не является статистически значимым, cредний чек в обеих группах считаем равным."
   ]
  },
  {
   "cell_type": "markdown",
   "metadata": {},
   "source": [
    "#### <a id='toc1_3_3_14_'></a>[Решение по результатам теста](#toc0_)"
   ]
  },
  {
   "cell_type": "markdown",
   "metadata": {},
   "source": [
    " 1. В рамках A/B-тестирования посчитана статистическая значимость различий в среднем количестве заказов на посетителя между группами по очищенным и \"сырым\" данным:\n",
    "\n",
    "  * Аномальные значения имеют некоторое влияние на статистическую значимость, однако не влияют на результат. По очищенным данным значение p_value уменьшилось с 0.017 до 0.009.\n",
    "  * Относительный прирост группы В к группе А увеличился с 13.8% до 16.4%\n",
    "\n",
    "2. Посчитана статистическая значимость различий в среднем чеке заказа между группами по очищенным и \"сырым\" данным:\n",
    "\n",
    "   *  Статистической разницы между очищенными и \"сырыми\" данными нет: значение p_value увеличилось с 0.829 до 0.942\n",
    "  *  Относительный прирост группы В к группе А уменьшился с 28.7% до 2.2%.   \n",
    "\n",
    "Имеющиеся факты:\n",
    "\n",
    "* Есть статистически значимое различие по среднему количеству заказов между группами по \"сырым\" и по очищенным данным.\n",
    "* Нет статистически значимого различия по среднему чеку между группами ни по \"сырым\", ни по очищенным данным.\n",
    "* График различия среднего количества заказов между группами показывает, что результаты группы B стабильно лучше группы А.  \n",
    "<br/><br/>\n",
    "\n",
    "\n",
    "---\n",
    "\n",
    "\n",
    "### <a id='toc1_3_4_'></a>[Вывод](#toc0_)\n",
    "По результатам исследования можно считать, что различия среднего количества заказов между группами имеют статистическую значимость. В группе B количество заказов увеличилось, при этом изменение среднего чека не подтверждается.\n",
    "\n",
    "\n",
    "\n",
    "Тест следует признать успешным и остановить.\n",
    "<br/><br/>\n",
    "\n",
    "\n",
    "---\n",
    "\n"
   ]
  }
 ],
 "metadata": {
  "ExecuteTimeLog": [
   {
    "duration": 968,
    "start_time": "2024-06-03T15:52:43.211Z"
   },
   {
    "duration": 114,
    "start_time": "2024-06-03T15:52:44.181Z"
   },
   {
    "duration": 11,
    "start_time": "2024-06-03T15:52:44.296Z"
   },
   {
    "duration": 85,
    "start_time": "2024-06-03T15:52:44.309Z"
   },
   {
    "duration": 17,
    "start_time": "2024-06-03T15:52:44.395Z"
   },
   {
    "duration": 4,
    "start_time": "2024-06-03T15:52:44.413Z"
   },
   {
    "duration": 11,
    "start_time": "2024-06-03T15:52:44.418Z"
   },
   {
    "duration": 95,
    "start_time": "2024-06-03T15:52:44.430Z"
   },
   {
    "duration": 67,
    "start_time": "2024-06-03T15:52:44.526Z"
   },
   {
    "duration": 3,
    "start_time": "2024-06-03T15:52:44.596Z"
   },
   {
    "duration": 19,
    "start_time": "2024-06-03T15:52:44.601Z"
   },
   {
    "duration": 16,
    "start_time": "2024-06-03T15:52:44.621Z"
   },
   {
    "duration": 5,
    "start_time": "2024-06-03T15:52:44.638Z"
   },
   {
    "duration": 12,
    "start_time": "2024-06-03T15:52:44.645Z"
   },
   {
    "duration": 8,
    "start_time": "2024-06-03T15:52:44.659Z"
   },
   {
    "duration": 5,
    "start_time": "2024-06-03T15:52:44.668Z"
   },
   {
    "duration": 9,
    "start_time": "2024-06-03T15:52:44.674Z"
   },
   {
    "duration": 291,
    "start_time": "2024-06-03T15:52:44.684Z"
   },
   {
    "duration": 262,
    "start_time": "2024-06-03T15:52:44.977Z"
   },
   {
    "duration": 182,
    "start_time": "2024-06-03T15:52:45.240Z"
   },
   {
    "duration": 275,
    "start_time": "2024-06-03T15:52:45.424Z"
   },
   {
    "duration": 244,
    "start_time": "2024-06-03T15:52:45.701Z"
   },
   {
    "duration": 338,
    "start_time": "2024-06-03T15:52:45.947Z"
   },
   {
    "duration": 10,
    "start_time": "2024-06-03T15:52:46.287Z"
   },
   {
    "duration": 191,
    "start_time": "2024-06-03T15:52:46.299Z"
   },
   {
    "duration": 4,
    "start_time": "2024-06-03T15:52:46.492Z"
   },
   {
    "duration": 163,
    "start_time": "2024-06-03T15:52:46.498Z"
   },
   {
    "duration": 164,
    "start_time": "2024-06-03T15:52:46.668Z"
   },
   {
    "duration": 4,
    "start_time": "2024-06-03T15:52:46.834Z"
   },
   {
    "duration": 228,
    "start_time": "2024-06-03T15:52:46.840Z"
   },
   {
    "duration": 145,
    "start_time": "2024-06-03T15:52:47.070Z"
   },
   {
    "duration": 25,
    "start_time": "2024-06-03T15:52:47.216Z"
   },
   {
    "duration": 68,
    "start_time": "2024-06-03T15:52:47.242Z"
   },
   {
    "duration": 12,
    "start_time": "2024-06-03T15:52:47.312Z"
   },
   {
    "duration": 69,
    "start_time": "2024-06-03T15:52:47.326Z"
   },
   {
    "duration": 34,
    "start_time": "2024-06-03T15:52:47.396Z"
   },
   {
    "duration": 14,
    "start_time": "2024-06-03T15:52:47.431Z"
   },
   {
    "duration": 57,
    "start_time": "2024-06-03T19:25:19.774Z"
   },
   {
    "duration": 7,
    "start_time": "2024-06-03T19:25:29.203Z"
   },
   {
    "duration": 1324,
    "start_time": "2024-06-03T19:25:49.444Z"
   },
   {
    "duration": 72,
    "start_time": "2024-06-03T19:26:20.528Z"
   },
   {
    "duration": 62,
    "start_time": "2024-06-03T19:26:46.040Z"
   },
   {
    "duration": 1167,
    "start_time": "2024-06-03T19:26:59.096Z"
   },
   {
    "duration": 149,
    "start_time": "2024-06-03T19:27:00.265Z"
   },
   {
    "duration": 14,
    "start_time": "2024-06-03T19:27:00.415Z"
   },
   {
    "duration": 77,
    "start_time": "2024-06-03T19:27:00.432Z"
   },
   {
    "duration": 110,
    "start_time": "2024-06-03T19:27:00.511Z"
   },
   {
    "duration": 107,
    "start_time": "2024-06-03T19:27:00.623Z"
   },
   {
    "duration": 83,
    "start_time": "2024-06-03T19:27:00.732Z"
   },
   {
    "duration": 243,
    "start_time": "2024-06-03T19:27:00.816Z"
   },
   {
    "duration": 59,
    "start_time": "2024-06-03T19:27:01.061Z"
   },
   {
    "duration": 12,
    "start_time": "2024-06-03T19:27:01.123Z"
   },
   {
    "duration": 104,
    "start_time": "2024-06-03T19:27:01.137Z"
   },
   {
    "duration": 52,
    "start_time": "2024-06-03T19:27:01.242Z"
   },
   {
    "duration": 26,
    "start_time": "2024-06-03T19:27:01.296Z"
   },
   {
    "duration": 62,
    "start_time": "2024-06-03T19:27:01.325Z"
   },
   {
    "duration": 44,
    "start_time": "2024-06-03T19:27:01.388Z"
   },
   {
    "duration": 41,
    "start_time": "2024-06-03T19:27:01.434Z"
   },
   {
    "duration": 43,
    "start_time": "2024-06-03T19:27:01.478Z"
   },
   {
    "duration": 47,
    "start_time": "2024-06-03T19:27:01.523Z"
   },
   {
    "duration": 321,
    "start_time": "2024-06-03T19:27:01.572Z"
   },
   {
    "duration": 340,
    "start_time": "2024-06-03T19:27:01.896Z"
   },
   {
    "duration": 224,
    "start_time": "2024-06-03T19:27:02.239Z"
   },
   {
    "duration": 317,
    "start_time": "2024-06-03T19:27:02.464Z"
   },
   {
    "duration": 240,
    "start_time": "2024-06-03T19:27:02.783Z"
   },
   {
    "duration": 375,
    "start_time": "2024-06-03T19:27:03.025Z"
   },
   {
    "duration": 11,
    "start_time": "2024-06-03T19:27:03.402Z"
   },
   {
    "duration": 183,
    "start_time": "2024-06-03T19:27:03.415Z"
   },
   {
    "duration": 5,
    "start_time": "2024-06-03T19:27:03.600Z"
   },
   {
    "duration": 223,
    "start_time": "2024-06-03T19:27:03.608Z"
   },
   {
    "duration": 192,
    "start_time": "2024-06-03T19:27:03.833Z"
   },
   {
    "duration": 5,
    "start_time": "2024-06-03T19:27:04.027Z"
   },
   {
    "duration": 268,
    "start_time": "2024-06-03T19:27:04.033Z"
   },
   {
    "duration": 156,
    "start_time": "2024-06-03T19:27:04.303Z"
   },
   {
    "duration": 35,
    "start_time": "2024-06-03T19:27:04.460Z"
   },
   {
    "duration": 12,
    "start_time": "2024-06-03T19:27:04.497Z"
   },
   {
    "duration": 9,
    "start_time": "2024-06-03T19:27:04.511Z"
   },
   {
    "duration": 38,
    "start_time": "2024-06-03T19:27:04.522Z"
   },
   {
    "duration": 31,
    "start_time": "2024-06-03T19:27:04.563Z"
   },
   {
    "duration": 15,
    "start_time": "2024-06-03T19:27:04.596Z"
   },
   {
    "duration": 12,
    "start_time": "2024-06-03T19:29:42.954Z"
   },
   {
    "duration": 10,
    "start_time": "2024-06-03T19:29:52.080Z"
   },
   {
    "duration": 8,
    "start_time": "2024-06-03T19:29:58.776Z"
   },
   {
    "duration": 96,
    "start_time": "2024-06-03T19:30:10.021Z"
   },
   {
    "duration": 1199,
    "start_time": "2024-06-03T19:30:18.292Z"
   },
   {
    "duration": 92,
    "start_time": "2024-06-03T19:30:19.494Z"
   },
   {
    "duration": 16,
    "start_time": "2024-06-03T19:30:19.588Z"
   },
   {
    "duration": 8,
    "start_time": "2024-06-03T19:30:19.607Z"
   },
   {
    "duration": 45,
    "start_time": "2024-06-03T19:30:19.617Z"
   },
   {
    "duration": 17,
    "start_time": "2024-06-03T19:30:19.665Z"
   },
   {
    "duration": 46,
    "start_time": "2024-06-03T19:30:19.684Z"
   },
   {
    "duration": 59,
    "start_time": "2024-06-03T19:30:19.732Z"
   },
   {
    "duration": 16,
    "start_time": "2024-06-03T19:30:19.793Z"
   },
   {
    "duration": 5,
    "start_time": "2024-06-03T19:30:19.812Z"
   },
   {
    "duration": 43,
    "start_time": "2024-06-03T19:30:19.819Z"
   },
   {
    "duration": 23,
    "start_time": "2024-06-03T19:30:19.864Z"
   },
   {
    "duration": 8,
    "start_time": "2024-06-03T19:30:19.889Z"
   },
   {
    "duration": 15,
    "start_time": "2024-06-03T19:30:19.898Z"
   },
   {
    "duration": 7,
    "start_time": "2024-06-03T19:30:19.915Z"
   },
   {
    "duration": 28,
    "start_time": "2024-06-03T19:30:19.923Z"
   },
   {
    "duration": 16,
    "start_time": "2024-06-03T19:30:19.953Z"
   },
   {
    "duration": 20,
    "start_time": "2024-06-03T19:30:19.971Z"
   },
   {
    "duration": 338,
    "start_time": "2024-06-03T19:30:19.994Z"
   },
   {
    "duration": 312,
    "start_time": "2024-06-03T19:30:20.334Z"
   },
   {
    "duration": 226,
    "start_time": "2024-06-03T19:30:20.648Z"
   },
   {
    "duration": 350,
    "start_time": "2024-06-03T19:30:20.875Z"
   },
   {
    "duration": 251,
    "start_time": "2024-06-03T19:30:21.228Z"
   },
   {
    "duration": 344,
    "start_time": "2024-06-03T19:30:21.481Z"
   },
   {
    "duration": 9,
    "start_time": "2024-06-03T19:30:21.827Z"
   },
   {
    "duration": 177,
    "start_time": "2024-06-03T19:30:21.837Z"
   },
   {
    "duration": 4,
    "start_time": "2024-06-03T19:30:22.016Z"
   },
   {
    "duration": 207,
    "start_time": "2024-06-03T19:30:22.023Z"
   },
   {
    "duration": 185,
    "start_time": "2024-06-03T19:30:22.232Z"
   },
   {
    "duration": 4,
    "start_time": "2024-06-03T19:30:22.419Z"
   },
   {
    "duration": 260,
    "start_time": "2024-06-03T19:30:22.425Z"
   },
   {
    "duration": 176,
    "start_time": "2024-06-03T19:30:22.687Z"
   },
   {
    "duration": 30,
    "start_time": "2024-06-03T19:30:22.865Z"
   },
   {
    "duration": 13,
    "start_time": "2024-06-03T19:30:22.896Z"
   },
   {
    "duration": 10,
    "start_time": "2024-06-03T19:30:22.910Z"
   },
   {
    "duration": 9,
    "start_time": "2024-06-03T19:30:22.921Z"
   },
   {
    "duration": 61,
    "start_time": "2024-06-03T19:30:22.931Z"
   },
   {
    "duration": 17,
    "start_time": "2024-06-03T19:30:22.994Z"
   },
   {
    "duration": 6,
    "start_time": "2024-06-03T19:30:49.216Z"
   },
   {
    "duration": 1187,
    "start_time": "2024-06-03T19:31:34.700Z"
   },
   {
    "duration": 86,
    "start_time": "2024-06-03T19:31:35.889Z"
   },
   {
    "duration": 12,
    "start_time": "2024-06-03T19:31:35.976Z"
   },
   {
    "duration": 29,
    "start_time": "2024-06-03T19:31:35.991Z"
   },
   {
    "duration": 12,
    "start_time": "2024-06-03T19:31:36.021Z"
   },
   {
    "duration": 13,
    "start_time": "2024-06-03T19:31:36.035Z"
   },
   {
    "duration": 22,
    "start_time": "2024-06-03T19:31:36.050Z"
   },
   {
    "duration": 37,
    "start_time": "2024-06-03T19:31:36.075Z"
   },
   {
    "duration": 15,
    "start_time": "2024-06-03T19:31:36.114Z"
   },
   {
    "duration": 5,
    "start_time": "2024-06-03T19:31:36.132Z"
   },
   {
    "duration": 39,
    "start_time": "2024-06-03T19:31:36.138Z"
   },
   {
    "duration": 24,
    "start_time": "2024-06-03T19:31:36.179Z"
   },
   {
    "duration": 6,
    "start_time": "2024-06-03T19:31:36.204Z"
   },
   {
    "duration": 31,
    "start_time": "2024-06-03T19:31:36.212Z"
   },
   {
    "duration": 15,
    "start_time": "2024-06-03T19:31:36.245Z"
   },
   {
    "duration": 14,
    "start_time": "2024-06-03T19:31:36.262Z"
   },
   {
    "duration": 6,
    "start_time": "2024-06-03T19:31:36.278Z"
   },
   {
    "duration": 40,
    "start_time": "2024-06-03T19:31:36.286Z"
   },
   {
    "duration": 331,
    "start_time": "2024-06-03T19:31:36.328Z"
   },
   {
    "duration": 328,
    "start_time": "2024-06-03T19:31:36.663Z"
   },
   {
    "duration": 225,
    "start_time": "2024-06-03T19:31:36.993Z"
   },
   {
    "duration": 323,
    "start_time": "2024-06-03T19:31:37.220Z"
   },
   {
    "duration": 273,
    "start_time": "2024-06-03T19:31:37.545Z"
   },
   {
    "duration": 357,
    "start_time": "2024-06-03T19:31:37.819Z"
   },
   {
    "duration": 10,
    "start_time": "2024-06-03T19:31:38.178Z"
   },
   {
    "duration": 177,
    "start_time": "2024-06-03T19:31:38.189Z"
   },
   {
    "duration": 7,
    "start_time": "2024-06-03T19:31:38.368Z"
   },
   {
    "duration": 200,
    "start_time": "2024-06-03T19:31:38.378Z"
   },
   {
    "duration": 190,
    "start_time": "2024-06-03T19:31:38.579Z"
   },
   {
    "duration": 5,
    "start_time": "2024-06-03T19:31:38.772Z"
   },
   {
    "duration": 239,
    "start_time": "2024-06-03T19:31:38.779Z"
   },
   {
    "duration": 163,
    "start_time": "2024-06-03T19:31:39.019Z"
   },
   {
    "duration": 31,
    "start_time": "2024-06-03T19:31:39.184Z"
   },
   {
    "duration": 14,
    "start_time": "2024-06-03T19:31:39.217Z"
   },
   {
    "duration": 32,
    "start_time": "2024-06-03T19:31:39.233Z"
   },
   {
    "duration": 13,
    "start_time": "2024-06-03T19:31:39.267Z"
   },
   {
    "duration": 38,
    "start_time": "2024-06-03T19:31:39.282Z"
   },
   {
    "duration": 43,
    "start_time": "2024-06-03T19:31:39.321Z"
   },
   {
    "duration": 13,
    "start_time": "2024-06-03T19:33:11.682Z"
   },
   {
    "duration": 1202,
    "start_time": "2024-06-03T19:33:20.479Z"
   },
   {
    "duration": 60,
    "start_time": "2024-06-03T19:33:21.683Z"
   },
   {
    "duration": 22,
    "start_time": "2024-06-03T19:33:21.744Z"
   },
   {
    "duration": 33,
    "start_time": "2024-06-03T19:33:21.769Z"
   },
   {
    "duration": 13,
    "start_time": "2024-06-03T19:33:21.804Z"
   },
   {
    "duration": 17,
    "start_time": "2024-06-03T19:33:21.818Z"
   },
   {
    "duration": 16,
    "start_time": "2024-06-03T19:33:21.837Z"
   },
   {
    "duration": 44,
    "start_time": "2024-06-03T19:33:21.855Z"
   },
   {
    "duration": 15,
    "start_time": "2024-06-03T19:33:21.900Z"
   },
   {
    "duration": 4,
    "start_time": "2024-06-03T19:33:21.918Z"
   },
   {
    "duration": 31,
    "start_time": "2024-06-03T19:33:21.923Z"
   },
   {
    "duration": 31,
    "start_time": "2024-06-03T19:33:21.955Z"
   },
   {
    "duration": 6,
    "start_time": "2024-06-03T19:33:21.988Z"
   },
   {
    "duration": 12,
    "start_time": "2024-06-03T19:33:21.995Z"
   },
   {
    "duration": 7,
    "start_time": "2024-06-03T19:33:22.009Z"
   },
   {
    "duration": 33,
    "start_time": "2024-06-03T19:33:22.017Z"
   },
   {
    "duration": 11,
    "start_time": "2024-06-03T19:33:22.052Z"
   },
   {
    "duration": 12,
    "start_time": "2024-06-03T19:33:22.066Z"
   },
   {
    "duration": 322,
    "start_time": "2024-06-03T19:33:22.079Z"
   },
   {
    "duration": 309,
    "start_time": "2024-06-03T19:33:22.403Z"
   },
   {
    "duration": 226,
    "start_time": "2024-06-03T19:33:22.713Z"
   },
   {
    "duration": 358,
    "start_time": "2024-06-03T19:33:22.941Z"
   },
   {
    "duration": 247,
    "start_time": "2024-06-03T19:33:23.301Z"
   },
   {
    "duration": 369,
    "start_time": "2024-06-03T19:33:23.550Z"
   },
   {
    "duration": 9,
    "start_time": "2024-06-03T19:33:23.921Z"
   },
   {
    "duration": 168,
    "start_time": "2024-06-03T19:33:23.932Z"
   },
   {
    "duration": 5,
    "start_time": "2024-06-03T19:33:24.101Z"
   },
   {
    "duration": 199,
    "start_time": "2024-06-03T19:33:24.109Z"
   },
   {
    "duration": 209,
    "start_time": "2024-06-03T19:33:24.310Z"
   },
   {
    "duration": 5,
    "start_time": "2024-06-03T19:33:24.520Z"
   },
   {
    "duration": 270,
    "start_time": "2024-06-03T19:33:24.527Z"
   },
   {
    "duration": 162,
    "start_time": "2024-06-03T19:33:24.798Z"
   },
   {
    "duration": 28,
    "start_time": "2024-06-03T19:33:24.961Z"
   },
   {
    "duration": 14,
    "start_time": "2024-06-03T19:33:24.991Z"
   },
   {
    "duration": 11,
    "start_time": "2024-06-03T19:33:25.007Z"
   },
   {
    "duration": 42,
    "start_time": "2024-06-03T19:33:25.019Z"
   },
   {
    "duration": 34,
    "start_time": "2024-06-03T19:33:25.063Z"
   },
   {
    "duration": 15,
    "start_time": "2024-06-03T19:33:25.099Z"
   },
   {
    "duration": 18,
    "start_time": "2024-06-03T19:36:20.166Z"
   },
   {
    "duration": 1146,
    "start_time": "2024-06-03T19:36:26.808Z"
   },
   {
    "duration": 84,
    "start_time": "2024-06-03T19:36:27.956Z"
   },
   {
    "duration": 12,
    "start_time": "2024-06-03T19:36:28.042Z"
   },
   {
    "duration": 6,
    "start_time": "2024-06-03T19:36:28.056Z"
   },
   {
    "duration": 12,
    "start_time": "2024-06-03T19:36:28.063Z"
   },
   {
    "duration": 6,
    "start_time": "2024-06-03T19:36:28.077Z"
   },
   {
    "duration": 18,
    "start_time": "2024-06-03T19:36:28.084Z"
   },
   {
    "duration": 38,
    "start_time": "2024-06-03T19:36:28.104Z"
   },
   {
    "duration": 16,
    "start_time": "2024-06-03T19:36:28.145Z"
   },
   {
    "duration": 5,
    "start_time": "2024-06-03T19:36:28.164Z"
   },
   {
    "duration": 27,
    "start_time": "2024-06-03T19:36:28.171Z"
   },
   {
    "duration": 18,
    "start_time": "2024-06-03T19:36:28.200Z"
   },
   {
    "duration": 6,
    "start_time": "2024-06-03T19:36:28.220Z"
   },
   {
    "duration": 9,
    "start_time": "2024-06-03T19:36:28.258Z"
   },
   {
    "duration": 9,
    "start_time": "2024-06-03T19:36:28.268Z"
   },
   {
    "duration": 29,
    "start_time": "2024-06-03T19:36:28.278Z"
   },
   {
    "duration": 5,
    "start_time": "2024-06-03T19:36:28.309Z"
   },
   {
    "duration": 12,
    "start_time": "2024-06-03T19:36:28.315Z"
   },
   {
    "duration": 335,
    "start_time": "2024-06-03T19:36:28.328Z"
   },
   {
    "duration": 317,
    "start_time": "2024-06-03T19:36:28.665Z"
   },
   {
    "duration": 225,
    "start_time": "2024-06-03T19:36:28.984Z"
   },
   {
    "duration": 300,
    "start_time": "2024-06-03T19:36:29.211Z"
   },
   {
    "duration": 228,
    "start_time": "2024-06-03T19:36:29.512Z"
   },
   {
    "duration": 364,
    "start_time": "2024-06-03T19:36:29.742Z"
   },
   {
    "duration": 12,
    "start_time": "2024-06-03T19:36:30.108Z"
   },
   {
    "duration": 206,
    "start_time": "2024-06-03T19:36:30.122Z"
   },
   {
    "duration": 12,
    "start_time": "2024-06-03T19:36:30.330Z"
   },
   {
    "duration": 241,
    "start_time": "2024-06-03T19:36:30.346Z"
   },
   {
    "duration": 258,
    "start_time": "2024-06-03T19:36:30.589Z"
   },
   {
    "duration": 4,
    "start_time": "2024-06-03T19:36:30.849Z"
   },
   {
    "duration": 282,
    "start_time": "2024-06-03T19:36:30.859Z"
   },
   {
    "duration": 173,
    "start_time": "2024-06-03T19:36:31.143Z"
   },
   {
    "duration": 61,
    "start_time": "2024-06-03T19:36:31.317Z"
   },
   {
    "duration": 57,
    "start_time": "2024-06-03T19:36:31.380Z"
   },
   {
    "duration": 36,
    "start_time": "2024-06-03T19:36:31.439Z"
   },
   {
    "duration": 113,
    "start_time": "2024-06-03T19:36:31.478Z"
   },
   {
    "duration": 67,
    "start_time": "2024-06-03T19:36:31.593Z"
   },
   {
    "duration": 23,
    "start_time": "2024-06-03T19:36:31.662Z"
   },
   {
    "duration": 10,
    "start_time": "2024-06-03T19:38:06.916Z"
   },
   {
    "duration": 9,
    "start_time": "2024-06-03T19:38:27.312Z"
   },
   {
    "duration": 94,
    "start_time": "2024-06-03T19:41:16.700Z"
   },
   {
    "duration": 13,
    "start_time": "2024-06-03T19:45:56.454Z"
   },
   {
    "duration": 9,
    "start_time": "2024-06-03T19:46:02.424Z"
   },
   {
    "duration": 9,
    "start_time": "2024-06-03T19:46:11.831Z"
   },
   {
    "duration": 162,
    "start_time": "2024-06-03T19:46:25.056Z"
   },
   {
    "duration": 5,
    "start_time": "2024-06-03T19:47:37.452Z"
   },
   {
    "duration": 4,
    "start_time": "2024-06-03T19:47:48.776Z"
   },
   {
    "duration": 187,
    "start_time": "2024-06-03T19:49:19.512Z"
   },
   {
    "duration": 111,
    "start_time": "2024-06-03T19:49:44.046Z"
   },
   {
    "duration": 170,
    "start_time": "2024-06-03T19:50:03.668Z"
   },
   {
    "duration": 5,
    "start_time": "2024-06-03T19:50:37.673Z"
   },
   {
    "duration": 5,
    "start_time": "2024-06-03T19:51:03.680Z"
   },
   {
    "duration": 19,
    "start_time": "2024-06-03T21:32:05.878Z"
   },
   {
    "duration": 11,
    "start_time": "2024-06-03T21:34:02.235Z"
   },
   {
    "duration": 20,
    "start_time": "2024-06-03T21:36:40.160Z"
   },
   {
    "duration": 4,
    "start_time": "2024-06-03T21:51:17.325Z"
   },
   {
    "duration": 58,
    "start_time": "2024-06-03T21:52:53.040Z"
   },
   {
    "duration": 38,
    "start_time": "2024-06-03T21:53:40.876Z"
   },
   {
    "duration": 3,
    "start_time": "2024-06-03T21:55:00.665Z"
   },
   {
    "duration": 22,
    "start_time": "2024-06-03T21:55:04.198Z"
   },
   {
    "duration": 10,
    "start_time": "2024-06-03T21:57:13.823Z"
   },
   {
    "duration": 13,
    "start_time": "2024-06-03T21:57:55.016Z"
   },
   {
    "duration": 4,
    "start_time": "2024-06-03T21:57:57.968Z"
   },
   {
    "duration": 18,
    "start_time": "2024-06-03T21:58:03.980Z"
   },
   {
    "duration": 13,
    "start_time": "2024-06-03T21:58:33.721Z"
   },
   {
    "duration": 4,
    "start_time": "2024-06-03T21:58:55.636Z"
   },
   {
    "duration": 15,
    "start_time": "2024-06-03T21:58:57.619Z"
   },
   {
    "duration": 3,
    "start_time": "2024-06-03T21:59:32.964Z"
   },
   {
    "duration": 11,
    "start_time": "2024-06-03T21:59:35.216Z"
   },
   {
    "duration": 14,
    "start_time": "2024-06-03T21:59:48.531Z"
   },
   {
    "duration": 18,
    "start_time": "2024-06-03T22:00:55.950Z"
   },
   {
    "duration": 12,
    "start_time": "2024-06-03T22:01:09.199Z"
   },
   {
    "duration": 10,
    "start_time": "2024-06-03T22:02:38.451Z"
   },
   {
    "duration": 15,
    "start_time": "2024-06-03T22:02:53.979Z"
   },
   {
    "duration": 14,
    "start_time": "2024-06-03T22:03:09.396Z"
   },
   {
    "duration": 8,
    "start_time": "2024-06-03T22:03:18.812Z"
   },
   {
    "duration": 16,
    "start_time": "2024-06-03T22:03:35.127Z"
   },
   {
    "duration": 17,
    "start_time": "2024-06-03T22:03:58.427Z"
   },
   {
    "duration": 17,
    "start_time": "2024-06-03T22:04:06.456Z"
   },
   {
    "duration": 12,
    "start_time": "2024-06-03T22:05:17.935Z"
   },
   {
    "duration": 15,
    "start_time": "2024-06-03T22:06:12.391Z"
   },
   {
    "duration": 16,
    "start_time": "2024-06-03T22:08:12.911Z"
   },
   {
    "duration": 13,
    "start_time": "2024-06-03T22:10:06.679Z"
   },
   {
    "duration": 5,
    "start_time": "2024-06-03T22:10:13.546Z"
   },
   {
    "duration": 13,
    "start_time": "2024-06-03T22:10:16.647Z"
   },
   {
    "duration": 15,
    "start_time": "2024-06-03T22:11:22.962Z"
   },
   {
    "duration": 192,
    "start_time": "2024-06-03T22:14:34.291Z"
   },
   {
    "duration": 230,
    "start_time": "2024-06-03T22:14:45.222Z"
   },
   {
    "duration": 202,
    "start_time": "2024-06-03T22:14:48.595Z"
   },
   {
    "duration": 16,
    "start_time": "2024-06-03T22:14:56.050Z"
   },
   {
    "duration": 129,
    "start_time": "2024-06-03T22:15:01.295Z"
   },
   {
    "duration": 15,
    "start_time": "2024-06-03T22:15:04.463Z"
   },
   {
    "duration": 11,
    "start_time": "2024-06-03T22:17:23.795Z"
   },
   {
    "duration": 85,
    "start_time": "2024-06-03T22:18:43.444Z"
   },
   {
    "duration": 4,
    "start_time": "2024-06-03T22:18:49.070Z"
   },
   {
    "duration": 33,
    "start_time": "2024-06-03T22:19:08.094Z"
   },
   {
    "duration": 13,
    "start_time": "2024-06-03T22:19:24.274Z"
   },
   {
    "duration": 22,
    "start_time": "2024-06-03T22:19:32.870Z"
   },
   {
    "duration": 24,
    "start_time": "2024-06-03T22:20:08.256Z"
   },
   {
    "duration": 5,
    "start_time": "2024-06-03T22:20:22.807Z"
   },
   {
    "duration": 30,
    "start_time": "2024-06-03T22:20:25.360Z"
   },
   {
    "duration": 15,
    "start_time": "2024-06-03T22:20:47.124Z"
   },
   {
    "duration": 69,
    "start_time": "2024-06-03T22:24:59.705Z"
   },
   {
    "duration": 23,
    "start_time": "2024-06-03T22:25:07.397Z"
   },
   {
    "duration": 29,
    "start_time": "2024-06-03T22:25:25.453Z"
   },
   {
    "duration": 12,
    "start_time": "2024-06-03T22:25:50.457Z"
   },
   {
    "duration": 16,
    "start_time": "2024-06-03T22:25:56.981Z"
   },
   {
    "duration": 29,
    "start_time": "2024-06-03T22:26:01.374Z"
   },
   {
    "duration": 1182,
    "start_time": "2024-06-04T08:45:12.904Z"
   },
   {
    "duration": 28,
    "start_time": "2024-06-04T08:45:14.088Z"
   },
   {
    "duration": 15,
    "start_time": "2024-06-04T08:45:14.117Z"
   },
   {
    "duration": 13,
    "start_time": "2024-06-04T08:45:14.134Z"
   },
   {
    "duration": 16,
    "start_time": "2024-06-04T08:45:14.148Z"
   },
   {
    "duration": 9,
    "start_time": "2024-06-04T08:45:14.166Z"
   },
   {
    "duration": 68,
    "start_time": "2024-06-04T08:45:14.177Z"
   },
   {
    "duration": 38,
    "start_time": "2024-06-04T08:45:14.247Z"
   },
   {
    "duration": 15,
    "start_time": "2024-06-04T08:45:14.287Z"
   },
   {
    "duration": 4,
    "start_time": "2024-06-04T08:45:14.305Z"
   },
   {
    "duration": 22,
    "start_time": "2024-06-04T08:45:14.310Z"
   },
   {
    "duration": 18,
    "start_time": "2024-06-04T08:45:14.334Z"
   },
   {
    "duration": 11,
    "start_time": "2024-06-04T08:45:14.354Z"
   },
   {
    "duration": 8,
    "start_time": "2024-06-04T08:45:14.367Z"
   },
   {
    "duration": 31,
    "start_time": "2024-06-04T08:45:14.377Z"
   },
   {
    "duration": 16,
    "start_time": "2024-06-04T08:45:14.410Z"
   },
   {
    "duration": 8,
    "start_time": "2024-06-04T08:45:14.427Z"
   },
   {
    "duration": 26,
    "start_time": "2024-06-04T08:45:14.436Z"
   },
   {
    "duration": 276,
    "start_time": "2024-06-04T08:45:14.463Z"
   },
   {
    "duration": 301,
    "start_time": "2024-06-04T08:45:14.741Z"
   },
   {
    "duration": 202,
    "start_time": "2024-06-04T08:45:15.044Z"
   },
   {
    "duration": 451,
    "start_time": "2024-06-04T08:45:15.248Z"
   },
   {
    "duration": 473,
    "start_time": "2024-06-04T08:45:15.701Z"
   },
   {
    "duration": 606,
    "start_time": "2024-06-04T08:45:16.176Z"
   },
   {
    "duration": 9,
    "start_time": "2024-06-04T08:45:16.783Z"
   },
   {
    "duration": 385,
    "start_time": "2024-06-04T08:45:16.794Z"
   },
   {
    "duration": 5,
    "start_time": "2024-06-04T08:45:17.181Z"
   },
   {
    "duration": 207,
    "start_time": "2024-06-04T08:45:17.191Z"
   },
   {
    "duration": 245,
    "start_time": "2024-06-04T08:45:17.399Z"
   },
   {
    "duration": 4,
    "start_time": "2024-06-04T08:45:17.645Z"
   },
   {
    "duration": 264,
    "start_time": "2024-06-04T08:45:17.650Z"
   },
   {
    "duration": 153,
    "start_time": "2024-06-04T08:45:17.917Z"
   },
   {
    "duration": 25,
    "start_time": "2024-06-04T08:45:18.072Z"
   },
   {
    "duration": 48,
    "start_time": "2024-06-04T08:45:18.099Z"
   },
   {
    "duration": 16,
    "start_time": "2024-06-04T08:45:18.149Z"
   },
   {
    "duration": 26,
    "start_time": "2024-06-04T08:45:18.167Z"
   },
   {
    "duration": 36,
    "start_time": "2024-06-04T08:45:18.194Z"
   },
   {
    "duration": 15,
    "start_time": "2024-06-04T08:45:18.231Z"
   }
  ],
  "colab": {
   "provenance": []
  },
  "kernelspec": {
   "display_name": "Python 3 (ipykernel)",
   "language": "python",
   "name": "python3"
  },
  "language_info": {
   "codemirror_mode": {
    "name": "ipython",
    "version": 3
   },
   "file_extension": ".py",
   "mimetype": "text/x-python",
   "name": "python",
   "nbconvert_exporter": "python",
   "pygments_lexer": "ipython3",
   "version": "3.9.5"
  },
  "toc": {
   "base_numbering": 1,
   "nav_menu": {},
   "number_sections": true,
   "sideBar": true,
   "skip_h1_title": true,
   "title_cell": "Table of Contents",
   "title_sidebar": "Contents",
   "toc_cell": false,
   "toc_position": {
    "height": "calc(100% - 180px)",
    "left": "10px",
    "top": "150px",
    "width": "228.938px"
   },
   "toc_section_display": true,
   "toc_window_display": true
  }
 },
 "nbformat": 4,
 "nbformat_minor": 1
}
